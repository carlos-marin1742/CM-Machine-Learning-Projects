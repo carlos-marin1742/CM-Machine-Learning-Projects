{
 "cells": [
  {
   "cell_type": "markdown",
   "id": "dc483d85",
   "metadata": {},
   "source": [
    "## Diabetes Prediction Using Machine Learning\n",
    "**By: Carlos Marin**\n",
    "\n",
    "### What is Diabetes?\n",
    "Diabetes is the leading cause of kidney disease because ongoing high blood glucose (blood sugar) can damage your kidney's blood vessels. Keep your blood glucose in range by eating well and maintaining a physical activity schedule that works best for you to lower your risk of kidney disease.\n",
    "\n",
    "Here we using machine to predict diabetes, using machine learning. \n",
    "\n",
    "### Symptoms under Question\n",
    " \n",
    "**Polyuria** - production of abnormally large volumes of dilute urine.\n",
    "\n",
    "**Polydipsia** -  a medical term that means excessive thirst.     \n",
    "\n",
    "**weight loss** - decrease in body weight resulting from either voluntary (diet, exercise) or involuntary (illness) circumstances.  \n",
    "\n",
    "**weakness** - the state or condition of lacking strength.\n",
    "\n",
    "**Polyphagia** - feeling of extreme, insatiable hunger.\n",
    "\n",
    "**Genital thrush** -  common condition caused by a type of yeast called Candida.\n",
    "\n",
    "**visual blurring** - Blurred vision, or blurry vision, means that your vision isn't sharp and crisp. \n",
    "\n",
    "**Itching** - to produce an itchy sensation\n",
    "\n",
    "**Irritability** - having or showing a tendency to be easily annoyed or made angry.\n",
    "\n",
    "**delayed healing** - the wound has trouble healing or staying closed.\n",
    "\n",
    "**partial paresis** - the weakening of a muscle or group of muscles.\n",
    "\n",
    "**muscle stiffness** -  refers sensation of muscle tightness, which often causes pain and makes it challenging to move.\n",
    "\n",
    "**Alopecia** - the partial or complete absence of hair from areas of the body where it normally grows\n",
    "\n",
    "**Obesity** - the state or condition of being very fat or overweight."
   ]
  },
  {
   "cell_type": "code",
   "execution_count": 1,
   "id": "d6c958bf",
   "metadata": {},
   "outputs": [],
   "source": [
    "#Loading Important Libraries\n",
    "import pandas as pd\n",
    "import numpy as np\n",
    "import seaborn as sn\n",
    "import matplotlib.pyplot as plt\n",
    "from sklearn.linear_model import LogisticRegression\n",
    "from sklearn.neighbors import KNeighborsClassifier\n",
    "from sklearn.model_selection import train_test_split, GridSearchCV\n",
    "from sklearn.metrics import classification_report, confusion_matrix\n",
    "from sklearn.tree import DecisionTreeClassifier \n",
    "from sklearn.ensemble import RandomForestClassifier\n",
    "import statsmodels.api as sm\n",
    "from imblearn.over_sampling import SMOTE\n",
    "import warnings\n",
    "warnings.filterwarnings(\"ignore\", category=Warning)"
   ]
  },
  {
   "cell_type": "code",
   "execution_count": 2,
   "id": "e0b4aa9e",
   "metadata": {},
   "outputs": [],
   "source": [
    "#loading dataset as df\n",
    "df = pd.read_csv('diabetes_data_upload.csv')"
   ]
  },
  {
   "cell_type": "code",
   "execution_count": 3,
   "id": "c9312204",
   "metadata": {},
   "outputs": [
    {
     "data": {
      "text/html": [
       "<div>\n",
       "<style scoped>\n",
       "    .dataframe tbody tr th:only-of-type {\n",
       "        vertical-align: middle;\n",
       "    }\n",
       "\n",
       "    .dataframe tbody tr th {\n",
       "        vertical-align: top;\n",
       "    }\n",
       "\n",
       "    .dataframe thead th {\n",
       "        text-align: right;\n",
       "    }\n",
       "</style>\n",
       "<table border=\"1\" class=\"dataframe\">\n",
       "  <thead>\n",
       "    <tr style=\"text-align: right;\">\n",
       "      <th></th>\n",
       "      <th>Age</th>\n",
       "      <th>Gender</th>\n",
       "      <th>Polyuria</th>\n",
       "      <th>Polydipsia</th>\n",
       "      <th>sudden weight loss</th>\n",
       "      <th>weakness</th>\n",
       "      <th>Polyphagia</th>\n",
       "      <th>Genital thrush</th>\n",
       "      <th>visual blurring</th>\n",
       "      <th>Itching</th>\n",
       "      <th>Irritability</th>\n",
       "      <th>delayed healing</th>\n",
       "      <th>partial paresis</th>\n",
       "      <th>muscle stiffness</th>\n",
       "      <th>Alopecia</th>\n",
       "      <th>Obesity</th>\n",
       "      <th>class</th>\n",
       "    </tr>\n",
       "  </thead>\n",
       "  <tbody>\n",
       "    <tr>\n",
       "      <th>0</th>\n",
       "      <td>40</td>\n",
       "      <td>Male</td>\n",
       "      <td>No</td>\n",
       "      <td>Yes</td>\n",
       "      <td>No</td>\n",
       "      <td>Yes</td>\n",
       "      <td>No</td>\n",
       "      <td>No</td>\n",
       "      <td>No</td>\n",
       "      <td>Yes</td>\n",
       "      <td>No</td>\n",
       "      <td>Yes</td>\n",
       "      <td>No</td>\n",
       "      <td>Yes</td>\n",
       "      <td>Yes</td>\n",
       "      <td>Yes</td>\n",
       "      <td>Positive</td>\n",
       "    </tr>\n",
       "    <tr>\n",
       "      <th>1</th>\n",
       "      <td>58</td>\n",
       "      <td>Male</td>\n",
       "      <td>No</td>\n",
       "      <td>No</td>\n",
       "      <td>No</td>\n",
       "      <td>Yes</td>\n",
       "      <td>No</td>\n",
       "      <td>No</td>\n",
       "      <td>Yes</td>\n",
       "      <td>No</td>\n",
       "      <td>No</td>\n",
       "      <td>No</td>\n",
       "      <td>Yes</td>\n",
       "      <td>No</td>\n",
       "      <td>Yes</td>\n",
       "      <td>No</td>\n",
       "      <td>Positive</td>\n",
       "    </tr>\n",
       "    <tr>\n",
       "      <th>2</th>\n",
       "      <td>41</td>\n",
       "      <td>Male</td>\n",
       "      <td>Yes</td>\n",
       "      <td>No</td>\n",
       "      <td>No</td>\n",
       "      <td>Yes</td>\n",
       "      <td>Yes</td>\n",
       "      <td>No</td>\n",
       "      <td>No</td>\n",
       "      <td>Yes</td>\n",
       "      <td>No</td>\n",
       "      <td>Yes</td>\n",
       "      <td>No</td>\n",
       "      <td>Yes</td>\n",
       "      <td>Yes</td>\n",
       "      <td>No</td>\n",
       "      <td>Positive</td>\n",
       "    </tr>\n",
       "    <tr>\n",
       "      <th>3</th>\n",
       "      <td>45</td>\n",
       "      <td>Male</td>\n",
       "      <td>No</td>\n",
       "      <td>No</td>\n",
       "      <td>Yes</td>\n",
       "      <td>Yes</td>\n",
       "      <td>Yes</td>\n",
       "      <td>Yes</td>\n",
       "      <td>No</td>\n",
       "      <td>Yes</td>\n",
       "      <td>No</td>\n",
       "      <td>Yes</td>\n",
       "      <td>No</td>\n",
       "      <td>No</td>\n",
       "      <td>No</td>\n",
       "      <td>No</td>\n",
       "      <td>Positive</td>\n",
       "    </tr>\n",
       "    <tr>\n",
       "      <th>4</th>\n",
       "      <td>60</td>\n",
       "      <td>Male</td>\n",
       "      <td>Yes</td>\n",
       "      <td>Yes</td>\n",
       "      <td>Yes</td>\n",
       "      <td>Yes</td>\n",
       "      <td>Yes</td>\n",
       "      <td>No</td>\n",
       "      <td>Yes</td>\n",
       "      <td>Yes</td>\n",
       "      <td>Yes</td>\n",
       "      <td>Yes</td>\n",
       "      <td>Yes</td>\n",
       "      <td>Yes</td>\n",
       "      <td>Yes</td>\n",
       "      <td>Yes</td>\n",
       "      <td>Positive</td>\n",
       "    </tr>\n",
       "    <tr>\n",
       "      <th>...</th>\n",
       "      <td>...</td>\n",
       "      <td>...</td>\n",
       "      <td>...</td>\n",
       "      <td>...</td>\n",
       "      <td>...</td>\n",
       "      <td>...</td>\n",
       "      <td>...</td>\n",
       "      <td>...</td>\n",
       "      <td>...</td>\n",
       "      <td>...</td>\n",
       "      <td>...</td>\n",
       "      <td>...</td>\n",
       "      <td>...</td>\n",
       "      <td>...</td>\n",
       "      <td>...</td>\n",
       "      <td>...</td>\n",
       "      <td>...</td>\n",
       "    </tr>\n",
       "    <tr>\n",
       "      <th>515</th>\n",
       "      <td>39</td>\n",
       "      <td>Female</td>\n",
       "      <td>Yes</td>\n",
       "      <td>Yes</td>\n",
       "      <td>Yes</td>\n",
       "      <td>No</td>\n",
       "      <td>Yes</td>\n",
       "      <td>No</td>\n",
       "      <td>No</td>\n",
       "      <td>Yes</td>\n",
       "      <td>No</td>\n",
       "      <td>Yes</td>\n",
       "      <td>Yes</td>\n",
       "      <td>No</td>\n",
       "      <td>No</td>\n",
       "      <td>No</td>\n",
       "      <td>Positive</td>\n",
       "    </tr>\n",
       "    <tr>\n",
       "      <th>516</th>\n",
       "      <td>48</td>\n",
       "      <td>Female</td>\n",
       "      <td>Yes</td>\n",
       "      <td>Yes</td>\n",
       "      <td>Yes</td>\n",
       "      <td>Yes</td>\n",
       "      <td>Yes</td>\n",
       "      <td>No</td>\n",
       "      <td>No</td>\n",
       "      <td>Yes</td>\n",
       "      <td>Yes</td>\n",
       "      <td>Yes</td>\n",
       "      <td>Yes</td>\n",
       "      <td>No</td>\n",
       "      <td>No</td>\n",
       "      <td>No</td>\n",
       "      <td>Positive</td>\n",
       "    </tr>\n",
       "    <tr>\n",
       "      <th>517</th>\n",
       "      <td>58</td>\n",
       "      <td>Female</td>\n",
       "      <td>Yes</td>\n",
       "      <td>Yes</td>\n",
       "      <td>Yes</td>\n",
       "      <td>Yes</td>\n",
       "      <td>Yes</td>\n",
       "      <td>No</td>\n",
       "      <td>Yes</td>\n",
       "      <td>No</td>\n",
       "      <td>No</td>\n",
       "      <td>No</td>\n",
       "      <td>Yes</td>\n",
       "      <td>Yes</td>\n",
       "      <td>No</td>\n",
       "      <td>Yes</td>\n",
       "      <td>Positive</td>\n",
       "    </tr>\n",
       "    <tr>\n",
       "      <th>518</th>\n",
       "      <td>32</td>\n",
       "      <td>Female</td>\n",
       "      <td>No</td>\n",
       "      <td>No</td>\n",
       "      <td>No</td>\n",
       "      <td>Yes</td>\n",
       "      <td>No</td>\n",
       "      <td>No</td>\n",
       "      <td>Yes</td>\n",
       "      <td>Yes</td>\n",
       "      <td>No</td>\n",
       "      <td>Yes</td>\n",
       "      <td>No</td>\n",
       "      <td>No</td>\n",
       "      <td>Yes</td>\n",
       "      <td>No</td>\n",
       "      <td>Negative</td>\n",
       "    </tr>\n",
       "    <tr>\n",
       "      <th>519</th>\n",
       "      <td>42</td>\n",
       "      <td>Male</td>\n",
       "      <td>No</td>\n",
       "      <td>No</td>\n",
       "      <td>No</td>\n",
       "      <td>No</td>\n",
       "      <td>No</td>\n",
       "      <td>No</td>\n",
       "      <td>No</td>\n",
       "      <td>No</td>\n",
       "      <td>No</td>\n",
       "      <td>No</td>\n",
       "      <td>No</td>\n",
       "      <td>No</td>\n",
       "      <td>No</td>\n",
       "      <td>No</td>\n",
       "      <td>Negative</td>\n",
       "    </tr>\n",
       "  </tbody>\n",
       "</table>\n",
       "<p>520 rows × 17 columns</p>\n",
       "</div>"
      ],
      "text/plain": [
       "     Age  Gender Polyuria Polydipsia sudden weight loss weakness Polyphagia  \\\n",
       "0     40    Male       No        Yes                 No      Yes         No   \n",
       "1     58    Male       No         No                 No      Yes         No   \n",
       "2     41    Male      Yes         No                 No      Yes        Yes   \n",
       "3     45    Male       No         No                Yes      Yes        Yes   \n",
       "4     60    Male      Yes        Yes                Yes      Yes        Yes   \n",
       "..   ...     ...      ...        ...                ...      ...        ...   \n",
       "515   39  Female      Yes        Yes                Yes       No        Yes   \n",
       "516   48  Female      Yes        Yes                Yes      Yes        Yes   \n",
       "517   58  Female      Yes        Yes                Yes      Yes        Yes   \n",
       "518   32  Female       No         No                 No      Yes         No   \n",
       "519   42    Male       No         No                 No       No         No   \n",
       "\n",
       "    Genital thrush visual blurring Itching Irritability delayed healing  \\\n",
       "0               No              No     Yes           No             Yes   \n",
       "1               No             Yes      No           No              No   \n",
       "2               No              No     Yes           No             Yes   \n",
       "3              Yes              No     Yes           No             Yes   \n",
       "4               No             Yes     Yes          Yes             Yes   \n",
       "..             ...             ...     ...          ...             ...   \n",
       "515             No              No     Yes           No             Yes   \n",
       "516             No              No     Yes          Yes             Yes   \n",
       "517             No             Yes      No           No              No   \n",
       "518             No             Yes     Yes           No             Yes   \n",
       "519             No              No      No           No              No   \n",
       "\n",
       "    partial paresis muscle stiffness Alopecia Obesity     class  \n",
       "0                No              Yes      Yes     Yes  Positive  \n",
       "1               Yes               No      Yes      No  Positive  \n",
       "2                No              Yes      Yes      No  Positive  \n",
       "3                No               No       No      No  Positive  \n",
       "4               Yes              Yes      Yes     Yes  Positive  \n",
       "..              ...              ...      ...     ...       ...  \n",
       "515             Yes               No       No      No  Positive  \n",
       "516             Yes               No       No      No  Positive  \n",
       "517             Yes              Yes       No     Yes  Positive  \n",
       "518              No               No      Yes      No  Negative  \n",
       "519              No               No       No      No  Negative  \n",
       "\n",
       "[520 rows x 17 columns]"
      ]
     },
     "execution_count": 3,
     "metadata": {},
     "output_type": "execute_result"
    }
   ],
   "source": [
    "#Loading dataframe for visualization\n",
    "df"
   ]
  },
  {
   "cell_type": "code",
   "execution_count": 4,
   "id": "bc98919e",
   "metadata": {},
   "outputs": [
    {
     "name": "stdout",
     "output_type": "stream",
     "text": [
      "Age                    int64\n",
      "Gender                object\n",
      "Polyuria              object\n",
      "Polydipsia            object\n",
      "sudden weight loss    object\n",
      "weakness              object\n",
      "Polyphagia            object\n",
      "Genital thrush        object\n",
      "visual blurring       object\n",
      "Itching               object\n",
      "Irritability          object\n",
      "delayed healing       object\n",
      "partial paresis       object\n",
      "muscle stiffness      object\n",
      "Alopecia              object\n",
      "Obesity               object\n",
      "class                 object\n",
      "dtype: object\n"
     ]
    }
   ],
   "source": [
    "#Identify datatype of columns of dataset\n",
    "print(df.dtypes)"
   ]
  },
  {
   "cell_type": "markdown",
   "id": "69b66004",
   "metadata": {},
   "source": [
    "### Data Visualization\n",
    "#### Symptom Distribution for Positive and Negative Diabetes Class\n",
    "\n",
    "Looking at the symptoms, its very hard to distinguish which are going to be more associated this Diabetes."
   ]
  },
  {
   "cell_type": "code",
   "execution_count": 5,
   "id": "4d0595ab",
   "metadata": {},
   "outputs": [],
   "source": [
    "cat_features = df[['Polyuria', 'Polydipsia', 'sudden weight loss', 'weakness', 'Polyphagia',\n",
    "                  'Genital thrush','visual blurring','Itching','Irritability','delayed healing',\n",
    "                  'partial paresis','muscle stiffness','Alopecia','Obesity']]"
   ]
  },
  {
   "cell_type": "code",
   "execution_count": 6,
   "id": "00da1170",
   "metadata": {},
   "outputs": [
    {
     "data": {
      "image/png": "[encoded data removed]",
      "text/plain": [
       "<Figure size 1440x1440 with 9 Axes>"
      ]
     },
     "metadata": {
      "needs_background": "light"
     },
     "output_type": "display_data"
    }
   ],
   "source": [
    "#Data Visualization of symptoms in comparison to positive diabetes class and negative diabetes class.\n",
    "\n",
    "fig , ax = plt.subplots(3,3,figsize = (20,20))\n",
    "for i , subplots in zip (cat_features, ax.flatten()):  \n",
    "  sn.countplot(cat_features[i],hue = df['class'],ax = subplots, palette = 'BuPu')\n",
    "plt.show()"
   ]
  },
  {
   "cell_type": "code",
   "execution_count": 7,
   "id": "f8163023",
   "metadata": {},
   "outputs": [],
   "source": [
    "cat_features1 = df[['partial paresis','muscle stiffness','Alopecia','Obesity']]"
   ]
  },
  {
   "cell_type": "code",
   "execution_count": 8,
   "id": "c253cbd7",
   "metadata": {},
   "outputs": [
    {
     "data": {
      "image/png": "[encoded data removed]",
      "text/plain": [
       "<Figure size 720x720 with 4 Axes>"
      ]
     },
     "metadata": {
      "needs_background": "light"
     },
     "output_type": "display_data"
    }
   ],
   "source": [
    "#Data Visualization of symptoms in comparison to positive diabetes class and negative diabetes class.\n",
    "fig , ax = plt.subplots(2,2,figsize = (10,10))\n",
    "for i , subplots in zip (cat_features, ax.flatten()):  \n",
    "  sn.countplot(cat_features[i],hue = df['class'],ax = subplots, palette = 'BuPu')\n",
    "plt.show()"
   ]
  },
  {
   "cell_type": "markdown",
   "id": "f1527e94",
   "metadata": {},
   "source": [
    "### Distribution of Diabetes Classes\n",
    "Before we move forward, we need to see if there is a class imbalance. As you can see there are more positive cases than negative classes. This will be addressed later on."
   ]
  },
  {
   "cell_type": "code",
   "execution_count": 9,
   "id": "67816562",
   "metadata": {},
   "outputs": [
    {
     "data": {
      "text/plain": [
       "<AxesSubplot:xlabel='class', ylabel='count'>"
      ]
     },
     "execution_count": 9,
     "metadata": {},
     "output_type": "execute_result"
    },
    {
     "data": {
      "image/png": "[encoded data removed]",
      "text/plain": [
       "<Figure size 432x288 with 1 Axes>"
      ]
     },
     "metadata": {
      "needs_background": "light"
     },
     "output_type": "display_data"
    }
   ],
   "source": [
    "#visualization of Diabetes Class Distribution\n",
    "sn.countplot(x='class', data = df)"
   ]
  },
  {
   "cell_type": "code",
   "execution_count": 10,
   "id": "d1c9f8ab",
   "metadata": {},
   "outputs": [
    {
     "data": {
      "text/plain": [
       "<AxesSubplot:xlabel='Age', ylabel='count'>"
      ]
     },
     "execution_count": 10,
     "metadata": {},
     "output_type": "execute_result"
    },
    {
     "data": {
      "image/png": "[encoded data removed]",
      "text/plain": [
       "<Figure size 1080x288 with 1 Axes>"
      ]
     },
     "metadata": {
      "needs_background": "light"
     },
     "output_type": "display_data"
    }
   ],
   "source": [
    "#visualization of Distribution by Age Group for all population\n",
    "plt.figure(figsize=(15,4))\n",
    "sn.countplot(x='Age', data = df)"
   ]
  },
  {
   "cell_type": "markdown",
   "id": "dec7b678",
   "metadata": {},
   "source": [
    "### Distribution of age groups for positve Diabetes"
   ]
  },
  {
   "cell_type": "code",
   "execution_count": 11,
   "id": "724d5ed2",
   "metadata": {},
   "outputs": [],
   "source": [
    "#creating positive class \n",
    "pos_df = df[df['class'] == 'Positive']"
   ]
  },
  {
   "cell_type": "code",
   "execution_count": 12,
   "id": "6a934aa7",
   "metadata": {},
   "outputs": [
    {
     "data": {
      "text/plain": [
       "<AxesSubplot:xlabel='Age', ylabel='count'>"
      ]
     },
     "execution_count": 12,
     "metadata": {},
     "output_type": "execute_result"
    },
    {
     "data": {
      "image/png": "[encoded data removed]",
      "text/plain": [
       "<Figure size 1080x288 with 1 Axes>"
      ]
     },
     "metadata": {
      "needs_background": "light"
     },
     "output_type": "display_data"
    }
   ],
   "source": [
    "#visualization of  Positive Diabetes Distribution By Age\n",
    "plt.figure(figsize=(15,4))\n",
    "sn.countplot(x='Age', data = pos_df)"
   ]
  },
  {
   "cell_type": "code",
   "execution_count": 13,
   "id": "b3079862",
   "metadata": {},
   "outputs": [
    {
     "data": {
      "text/plain": [
       "<AxesSubplot:xlabel='Gender', ylabel='count'>"
      ]
     },
     "execution_count": 13,
     "metadata": {},
     "output_type": "execute_result"
    },
    {
     "data": {
      "image/png": "[encoded data removed]",
      "text/plain": [
       "<Figure size 432x288 with 1 Axes>"
      ]
     },
     "metadata": {
      "needs_background": "light"
     },
     "output_type": "display_data"
    }
   ],
   "source": [
    "#Gender Distribution of postive classes\n",
    "sn.countplot(x= pos_df.Gender, data = pos_df)"
   ]
  },
  {
   "cell_type": "markdown",
   "id": "56834267",
   "metadata": {},
   "source": [
    "### Creating Dummy Variables\n",
    "Since our dataset contains 'Object' datatypes. Using **get_dummies**  we can convert categorical variable into dummy/indicator variables.\n",
    "\n",
    "This converts the current data  into a 0 ('No') or 1 ('Yes') values. "
   ]
  },
  {
   "cell_type": "code",
   "execution_count": 14,
   "id": "e1802b61",
   "metadata": {},
   "outputs": [],
   "source": [
    "#Creating new dataframe using get_dummies\n",
    "df1 = pd.get_dummies(df, drop_first = True)"
   ]
  },
  {
   "cell_type": "code",
   "execution_count": 15,
   "id": "335afd33",
   "metadata": {},
   "outputs": [
    {
     "data": {
      "text/html": [
       "<div>\n",
       "<style scoped>\n",
       "    .dataframe tbody tr th:only-of-type {\n",
       "        vertical-align: middle;\n",
       "    }\n",
       "\n",
       "    .dataframe tbody tr th {\n",
       "        vertical-align: top;\n",
       "    }\n",
       "\n",
       "    .dataframe thead th {\n",
       "        text-align: right;\n",
       "    }\n",
       "</style>\n",
       "<table border=\"1\" class=\"dataframe\">\n",
       "  <thead>\n",
       "    <tr style=\"text-align: right;\">\n",
       "      <th></th>\n",
       "      <th>Age</th>\n",
       "      <th>Gender_Male</th>\n",
       "      <th>Polyuria_Yes</th>\n",
       "      <th>Polydipsia_Yes</th>\n",
       "      <th>sudden weight loss_Yes</th>\n",
       "      <th>weakness_Yes</th>\n",
       "      <th>Polyphagia_Yes</th>\n",
       "      <th>Genital thrush_Yes</th>\n",
       "      <th>visual blurring_Yes</th>\n",
       "      <th>Itching_Yes</th>\n",
       "      <th>Irritability_Yes</th>\n",
       "      <th>delayed healing_Yes</th>\n",
       "      <th>partial paresis_Yes</th>\n",
       "      <th>muscle stiffness_Yes</th>\n",
       "      <th>Alopecia_Yes</th>\n",
       "      <th>Obesity_Yes</th>\n",
       "      <th>class_Positive</th>\n",
       "    </tr>\n",
       "  </thead>\n",
       "  <tbody>\n",
       "    <tr>\n",
       "      <th>0</th>\n",
       "      <td>40</td>\n",
       "      <td>1</td>\n",
       "      <td>0</td>\n",
       "      <td>1</td>\n",
       "      <td>0</td>\n",
       "      <td>1</td>\n",
       "      <td>0</td>\n",
       "      <td>0</td>\n",
       "      <td>0</td>\n",
       "      <td>1</td>\n",
       "      <td>0</td>\n",
       "      <td>1</td>\n",
       "      <td>0</td>\n",
       "      <td>1</td>\n",
       "      <td>1</td>\n",
       "      <td>1</td>\n",
       "      <td>1</td>\n",
       "    </tr>\n",
       "    <tr>\n",
       "      <th>1</th>\n",
       "      <td>58</td>\n",
       "      <td>1</td>\n",
       "      <td>0</td>\n",
       "      <td>0</td>\n",
       "      <td>0</td>\n",
       "      <td>1</td>\n",
       "      <td>0</td>\n",
       "      <td>0</td>\n",
       "      <td>1</td>\n",
       "      <td>0</td>\n",
       "      <td>0</td>\n",
       "      <td>0</td>\n",
       "      <td>1</td>\n",
       "      <td>0</td>\n",
       "      <td>1</td>\n",
       "      <td>0</td>\n",
       "      <td>1</td>\n",
       "    </tr>\n",
       "    <tr>\n",
       "      <th>2</th>\n",
       "      <td>41</td>\n",
       "      <td>1</td>\n",
       "      <td>1</td>\n",
       "      <td>0</td>\n",
       "      <td>0</td>\n",
       "      <td>1</td>\n",
       "      <td>1</td>\n",
       "      <td>0</td>\n",
       "      <td>0</td>\n",
       "      <td>1</td>\n",
       "      <td>0</td>\n",
       "      <td>1</td>\n",
       "      <td>0</td>\n",
       "      <td>1</td>\n",
       "      <td>1</td>\n",
       "      <td>0</td>\n",
       "      <td>1</td>\n",
       "    </tr>\n",
       "    <tr>\n",
       "      <th>3</th>\n",
       "      <td>45</td>\n",
       "      <td>1</td>\n",
       "      <td>0</td>\n",
       "      <td>0</td>\n",
       "      <td>1</td>\n",
       "      <td>1</td>\n",
       "      <td>1</td>\n",
       "      <td>1</td>\n",
       "      <td>0</td>\n",
       "      <td>1</td>\n",
       "      <td>0</td>\n",
       "      <td>1</td>\n",
       "      <td>0</td>\n",
       "      <td>0</td>\n",
       "      <td>0</td>\n",
       "      <td>0</td>\n",
       "      <td>1</td>\n",
       "    </tr>\n",
       "    <tr>\n",
       "      <th>4</th>\n",
       "      <td>60</td>\n",
       "      <td>1</td>\n",
       "      <td>1</td>\n",
       "      <td>1</td>\n",
       "      <td>1</td>\n",
       "      <td>1</td>\n",
       "      <td>1</td>\n",
       "      <td>0</td>\n",
       "      <td>1</td>\n",
       "      <td>1</td>\n",
       "      <td>1</td>\n",
       "      <td>1</td>\n",
       "      <td>1</td>\n",
       "      <td>1</td>\n",
       "      <td>1</td>\n",
       "      <td>1</td>\n",
       "      <td>1</td>\n",
       "    </tr>\n",
       "  </tbody>\n",
       "</table>\n",
       "</div>"
      ],
      "text/plain": [
       "   Age  Gender_Male  Polyuria_Yes  Polydipsia_Yes  sudden weight loss_Yes  \\\n",
       "0   40            1             0               1                       0   \n",
       "1   58            1             0               0                       0   \n",
       "2   41            1             1               0                       0   \n",
       "3   45            1             0               0                       1   \n",
       "4   60            1             1               1                       1   \n",
       "\n",
       "   weakness_Yes  Polyphagia_Yes  Genital thrush_Yes  visual blurring_Yes  \\\n",
       "0             1               0                   0                    0   \n",
       "1             1               0                   0                    1   \n",
       "2             1               1                   0                    0   \n",
       "3             1               1                   1                    0   \n",
       "4             1               1                   0                    1   \n",
       "\n",
       "   Itching_Yes  Irritability_Yes  delayed healing_Yes  partial paresis_Yes  \\\n",
       "0            1                 0                    1                    0   \n",
       "1            0                 0                    0                    1   \n",
       "2            1                 0                    1                    0   \n",
       "3            1                 0                    1                    0   \n",
       "4            1                 1                    1                    1   \n",
       "\n",
       "   muscle stiffness_Yes  Alopecia_Yes  Obesity_Yes  class_Positive  \n",
       "0                     1             1            1               1  \n",
       "1                     0             1            0               1  \n",
       "2                     1             1            0               1  \n",
       "3                     0             0            0               1  \n",
       "4                     1             1            1               1  "
      ]
     },
     "execution_count": 15,
     "metadata": {},
     "output_type": "execute_result"
    }
   ],
   "source": [
    "#Visualization of dataframe\n",
    "df1.head(5)"
   ]
  },
  {
   "cell_type": "code",
   "execution_count": 16,
   "id": "fc2d37fc",
   "metadata": {},
   "outputs": [
    {
     "data": {
      "text/plain": [
       "class_Positive            1.000000\n",
       "Polyuria_Yes              0.665922\n",
       "Polydipsia_Yes            0.648734\n",
       "Gender_Male               0.449233\n",
       "sudden weight loss_Yes    0.436568\n",
       "partial paresis_Yes       0.432288\n",
       "Polyphagia_Yes            0.342504\n",
       "Irritability_Yes          0.299467\n",
       "Alopecia_Yes              0.267512\n",
       "visual blurring_Yes       0.251300\n",
       "weakness_Yes              0.243275\n",
       "muscle stiffness_Yes      0.122474\n",
       "Genital thrush_Yes        0.110288\n",
       "Age                       0.108679\n",
       "Obesity_Yes               0.072173\n",
       "delayed healing_Yes       0.046980\n",
       "Itching_Yes               0.013384\n",
       "Name: class_Positive, dtype: float64"
      ]
     },
     "execution_count": 16,
     "metadata": {},
     "output_type": "execute_result"
    }
   ],
   "source": [
    "#Correlation of Symptoms to diabetes class\n",
    "data_corrs = df1.corr()['class_Positive'].map(abs).sort_values(ascending = False)\n",
    "data_corrs"
   ]
  },
  {
   "cell_type": "code",
   "execution_count": 17,
   "id": "de138f28",
   "metadata": {},
   "outputs": [
    {
     "data": {
      "text/plain": [
       "<AxesSubplot:>"
      ]
     },
     "execution_count": 17,
     "metadata": {},
     "output_type": "execute_result"
    },
    {
     "data": {
      "image/png": "[encoded data removed]",
      "text/plain": [
       "<Figure size 720x720 with 2 Axes>"
      ]
     },
     "metadata": {},
     "output_type": "display_data"
    }
   ],
   "source": [
    "#seaborn heatmap, to visualize correlation\n",
    "sn.set(rc= {'figure.figsize':(10,10)})\n",
    "sn.heatmap(df1.corr())"
   ]
  },
  {
   "cell_type": "markdown",
   "id": "11909789",
   "metadata": {},
   "source": [
    "### Identify X & Y, and Logistic Regression using Statsmodels\n",
    "Prior to running and building our machine learning models, need to look at correlation with our target variable. We do so by looking at the P-value of the coefficients. A P value <= 0.05 has statistical significance.\n",
    "\n",
    "Logistic regression is the type of regression analysis used to find the probability of a certain event occurring. It is the best suited type of regression for cases where we have a categorical dependent variable which can take only discrete values.\n",
    "\n",
    "\n",
    "Second we identify are our target (Y) and response variables (X).\n",
    "\n",
    "The add_constant = "
   ]
  },
  {
   "cell_type": "code",
   "execution_count": 18,
   "id": "a9cc343d",
   "metadata": {},
   "outputs": [],
   "source": [
    "from statsmodels.tools import add_constant as add_constant"
   ]
  },
  {
   "cell_type": "code",
   "execution_count": 19,
   "id": "8da4a008",
   "metadata": {},
   "outputs": [],
   "source": [
    "#Identifying Y(target) and X (Response Variables)\n",
    "y = df1['class_Positive']\n",
    "X = df1.drop('class_Positive', axis = 1)"
   ]
  },
  {
   "cell_type": "code",
   "execution_count": 20,
   "id": "a183ab62",
   "metadata": {},
   "outputs": [
    {
     "name": "stdout",
     "output_type": "stream",
     "text": [
      "Optimization terminated successfully.\n",
      "         Current function value: inf\n",
      "         Iterations 10\n"
     ]
    }
   ],
   "source": [
    "import statsmodels.api as sm\n",
    "# Creating intercept term required for sm.Logit\n",
    "X = sm.add_constant(X)\n",
    "\n",
    "# Fit model\n",
    "logit_model = sm.Logit(y, X)\n",
    "\n",
    "#results of the fit\n",
    "result = logit_model.fit()"
   ]
  },
  {
   "cell_type": "code",
   "execution_count": 21,
   "id": "7dc5421b",
   "metadata": {},
   "outputs": [
    {
     "data": {
      "text/html": [
       "<table class=\"simpletable\">\n",
       "<caption>Logit Regression Results</caption>\n",
       "<tr>\n",
       "  <th>Dep. Variable:</th>    <td>class_Positive</td>  <th>  No. Observations:  </th>  <td>   520</td> \n",
       "</tr>\n",
       "<tr>\n",
       "  <th>Model:</th>                 <td>Logit</td>      <th>  Df Residuals:      </th>  <td>   503</td> \n",
       "</tr>\n",
       "<tr>\n",
       "  <th>Method:</th>                 <td>MLE</td>       <th>  Df Model:          </th>  <td>    16</td> \n",
       "</tr>\n",
       "<tr>\n",
       "  <th>Date:</th>            <td>Sun, 13 Aug 2023</td> <th>  Pseudo R-squ.:     </th>  <td>   inf</td> \n",
       "</tr>\n",
       "<tr>\n",
       "  <th>Time:</th>                <td>22:10:49</td>     <th>  Log-Likelihood:    </th> <td>    -inf</td>\n",
       "</tr>\n",
       "<tr>\n",
       "  <th>converged:</th>             <td>True</td>       <th>  LL-Null:           </th> <td>  0.0000</td>\n",
       "</tr>\n",
       "<tr>\n",
       "  <th>Covariance Type:</th>     <td>nonrobust</td>    <th>  LLR p-value:       </th>  <td> 1.000</td> \n",
       "</tr>\n",
       "</table>\n",
       "<table class=\"simpletable\">\n",
       "<tr>\n",
       "             <td></td>               <th>coef</th>     <th>std err</th>      <th>z</th>      <th>P>|z|</th>  <th>[0.025</th>    <th>0.975]</th>  \n",
       "</tr>\n",
       "<tr>\n",
       "  <th>const</th>                  <td>    2.7466</td> <td>    1.075</td> <td>    2.554</td> <td> 0.011</td> <td>    0.639</td> <td>    4.854</td>\n",
       "</tr>\n",
       "<tr>\n",
       "  <th>Age</th>                    <td>   -0.0512</td> <td>    0.025</td> <td>   -2.017</td> <td> 0.044</td> <td>   -0.101</td> <td>   -0.001</td>\n",
       "</tr>\n",
       "<tr>\n",
       "  <th>Gender_Male</th>            <td>   -4.3512</td> <td>    0.598</td> <td>   -7.274</td> <td> 0.000</td> <td>   -5.524</td> <td>   -3.179</td>\n",
       "</tr>\n",
       "<tr>\n",
       "  <th>Polyuria_Yes</th>           <td>    4.4395</td> <td>    0.705</td> <td>    6.295</td> <td> 0.000</td> <td>    3.057</td> <td>    5.822</td>\n",
       "</tr>\n",
       "<tr>\n",
       "  <th>Polydipsia_Yes</th>         <td>    5.0704</td> <td>    0.829</td> <td>    6.117</td> <td> 0.000</td> <td>    3.446</td> <td>    6.695</td>\n",
       "</tr>\n",
       "<tr>\n",
       "  <th>sudden weight loss_Yes</th> <td>    0.1903</td> <td>    0.548</td> <td>    0.348</td> <td> 0.728</td> <td>   -0.883</td> <td>    1.264</td>\n",
       "</tr>\n",
       "<tr>\n",
       "  <th>weakness_Yes</th>           <td>    0.8171</td> <td>    0.537</td> <td>    1.522</td> <td> 0.128</td> <td>   -0.235</td> <td>    1.869</td>\n",
       "</tr>\n",
       "<tr>\n",
       "  <th>Polyphagia_Yes</th>         <td>    1.1938</td> <td>    0.534</td> <td>    2.238</td> <td> 0.025</td> <td>    0.148</td> <td>    2.239</td>\n",
       "</tr>\n",
       "<tr>\n",
       "  <th>Genital thrush_Yes</th>     <td>    1.8637</td> <td>    0.553</td> <td>    3.368</td> <td> 0.001</td> <td>    0.779</td> <td>    2.948</td>\n",
       "</tr>\n",
       "<tr>\n",
       "  <th>visual blurring_Yes</th>    <td>    0.9159</td> <td>    0.651</td> <td>    1.406</td> <td> 0.160</td> <td>   -0.360</td> <td>    2.192</td>\n",
       "</tr>\n",
       "<tr>\n",
       "  <th>Itching_Yes</th>            <td>   -2.8029</td> <td>    0.673</td> <td>   -4.167</td> <td> 0.000</td> <td>   -4.121</td> <td>   -1.485</td>\n",
       "</tr>\n",
       "<tr>\n",
       "  <th>Irritability_Yes</th>       <td>    2.3407</td> <td>    0.591</td> <td>    3.964</td> <td> 0.000</td> <td>    1.183</td> <td>    3.498</td>\n",
       "</tr>\n",
       "<tr>\n",
       "  <th>delayed healing_Yes</th>    <td>   -0.3916</td> <td>    0.550</td> <td>   -0.712</td> <td> 0.476</td> <td>   -1.470</td> <td>    0.686</td>\n",
       "</tr>\n",
       "<tr>\n",
       "  <th>partial paresis_Yes</th>    <td>    1.1593</td> <td>    0.525</td> <td>    2.209</td> <td> 0.027</td> <td>    0.131</td> <td>    2.188</td>\n",
       "</tr>\n",
       "<tr>\n",
       "  <th>muscle stiffness_Yes</th>   <td>   -0.7288</td> <td>    0.580</td> <td>   -1.256</td> <td> 0.209</td> <td>   -1.866</td> <td>    0.408</td>\n",
       "</tr>\n",
       "<tr>\n",
       "  <th>Alopecia_Yes</th>           <td>    0.1504</td> <td>    0.620</td> <td>    0.242</td> <td> 0.808</td> <td>   -1.065</td> <td>    1.366</td>\n",
       "</tr>\n",
       "<tr>\n",
       "  <th>Obesity_Yes</th>            <td>   -0.2890</td> <td>    0.544</td> <td>   -0.531</td> <td> 0.595</td> <td>   -1.356</td> <td>    0.778</td>\n",
       "</tr>\n",
       "</table><br/><br/>Possibly complete quasi-separation: A fraction 0.24 of observations can be<br/>perfectly predicted. This might indicate that there is complete<br/>quasi-separation. In this case some parameters will not be identified."
      ],
      "text/plain": [
       "<class 'statsmodels.iolib.summary.Summary'>\n",
       "\"\"\"\n",
       "                           Logit Regression Results                           \n",
       "==============================================================================\n",
       "Dep. Variable:         class_Positive   No. Observations:                  520\n",
       "Model:                          Logit   Df Residuals:                      503\n",
       "Method:                           MLE   Df Model:                           16\n",
       "Date:                Sun, 13 Aug 2023   Pseudo R-squ.:                     inf\n",
       "Time:                        22:10:49   Log-Likelihood:                   -inf\n",
       "converged:                       True   LL-Null:                        0.0000\n",
       "Covariance Type:            nonrobust   LLR p-value:                     1.000\n",
       "==========================================================================================\n",
       "                             coef    std err          z      P>|z|      [0.025      0.975]\n",
       "------------------------------------------------------------------------------------------\n",
       "const                      2.7466      1.075      2.554      0.011       0.639       4.854\n",
       "Age                       -0.0512      0.025     -2.017      0.044      -0.101      -0.001\n",
       "Gender_Male               -4.3512      0.598     -7.274      0.000      -5.524      -3.179\n",
       "Polyuria_Yes               4.4395      0.705      6.295      0.000       3.057       5.822\n",
       "Polydipsia_Yes             5.0704      0.829      6.117      0.000       3.446       6.695\n",
       "sudden weight loss_Yes     0.1903      0.548      0.348      0.728      -0.883       1.264\n",
       "weakness_Yes               0.8171      0.537      1.522      0.128      -0.235       1.869\n",
       "Polyphagia_Yes             1.1938      0.534      2.238      0.025       0.148       2.239\n",
       "Genital thrush_Yes         1.8637      0.553      3.368      0.001       0.779       2.948\n",
       "visual blurring_Yes        0.9159      0.651      1.406      0.160      -0.360       2.192\n",
       "Itching_Yes               -2.8029      0.673     -4.167      0.000      -4.121      -1.485\n",
       "Irritability_Yes           2.3407      0.591      3.964      0.000       1.183       3.498\n",
       "delayed healing_Yes       -0.3916      0.550     -0.712      0.476      -1.470       0.686\n",
       "partial paresis_Yes        1.1593      0.525      2.209      0.027       0.131       2.188\n",
       "muscle stiffness_Yes      -0.7288      0.580     -1.256      0.209      -1.866       0.408\n",
       "Alopecia_Yes               0.1504      0.620      0.242      0.808      -1.065       1.366\n",
       "Obesity_Yes               -0.2890      0.544     -0.531      0.595      -1.356       0.778\n",
       "==========================================================================================\n",
       "\n",
       "Possibly complete quasi-separation: A fraction 0.24 of observations can be\n",
       "perfectly predicted. This might indicate that there is complete\n",
       "quasi-separation. In this case some parameters will not be identified.\n",
       "\"\"\""
      ]
     },
     "execution_count": 21,
     "metadata": {},
     "output_type": "execute_result"
    }
   ],
   "source": [
    "result.summary()"
   ]
  },
  {
   "cell_type": "markdown",
   "id": "56074458",
   "metadata": {},
   "source": [
    "### Understanding the Logistic Regression Summary\n",
    "coef : the coefficients of the independent variables in the regression equation.\n",
    "\n",
    "**Log-Likelihood**: the natural logarithm of the Maximum Likelihood Estimation(MLE) function. MLE is the optimization process of finding the set of parameters that result in the best fit.\n",
    "\n",
    "**LL-Null** : the value of log-likelihood of the model when no independent variable is included(only an intercept is included).\n",
    "\n",
    "**Pseudo R-squ.**: a substitute for the R-squared value in Least Squares linear regression. It is the ratio of the log-likelihood of the null model to that of the full model.\n",
    "\n",
    "**z** : The z-value is the regression coefficient divided by standard error. If the z-value is too big in magnitude, it indicates that the corresponding true regression coefficient is not 0 and the corresponding X-variable matters.\n",
    "\n",
    "**std err**: The standard error is a measure of uncertainty of the logistic regression coefficient. It is useful for calculating the p-value and the confidence interval for the corresponding coefficient.\n",
    "\n",
    "**P>|z|** : represents the p-value associated with the value in the z value column. If the p-value is less than a certain significance level (e.g. P <= 0 . 05) then this indicates that the predictor variable has a statistically significant relationship with the response variable in the model."
   ]
  },
  {
   "cell_type": "markdown",
   "id": "f4b4844a",
   "metadata": {},
   "source": [
    "### Selecting columns that have significant p <=0.05\n",
    "These variables will be selected, as they have a P-Value P<= 0.05. The rest have no statistical significance with target variable"
   ]
  },
  {
   "cell_type": "code",
   "execution_count": 22,
   "id": "2a3fce0e",
   "metadata": {},
   "outputs": [],
   "source": [
    "cols = ['Age', 'Gender_Male', 'Polyuria_Yes','Polydipsia_Yes', 'Polyphagia_Yes', 'Genital thrush_Yes',\n",
    "       'Itching_Yes', 'Irritability_Yes', 'partial paresis_Yes']"
   ]
  },
  {
   "cell_type": "markdown",
   "id": "b15feb8c",
   "metadata": {},
   "source": [
    "### Re-running Logistic Regression Model, this time to look at Odds Ratio"
   ]
  },
  {
   "cell_type": "code",
   "execution_count": 23,
   "id": "226d1177",
   "metadata": {},
   "outputs": [
    {
     "name": "stdout",
     "output_type": "stream",
     "text": [
      "Optimization terminated successfully.\n",
      "         Current function value: inf\n",
      "         Iterations 9\n"
     ]
    }
   ],
   "source": [
    "y = df1['class_Positive']\n",
    "X = df1[cols]\n",
    "\n",
    "# Creating intercept term required for sm.Logit\n",
    "X = sm.add_constant(X)\n",
    "\n",
    "# Fit model\n",
    "logit_model = sm.Logit(y, X)\n",
    "\n",
    "#results of the fit\n",
    "result = logit_model.fit()"
   ]
  },
  {
   "cell_type": "markdown",
   "id": "e42e7eb2",
   "metadata": {},
   "source": [
    "### Odds Ratio\n",
    "In logistic regression the odds ratio represents the constant effect of a predictor X, on the likelihood that one outcome will occur.\n",
    "\n",
    "Odds ratios (OR) are used to compare the relative odds of the occurrence of the outcome of interest, given exposure to the variable of interest. The odds ratio can also be used to determine whether a particular exposure is a risk factor for a particular outcome.\n",
    "\n",
    "**OR=1** Exposure does not affect odds of outcome\n",
    "\n",
    "**OR>1** Exposure associated with higher odds of outcome\n",
    "\n",
    "**OR<1** Exposure associated with lower odds of outcome"
   ]
  },
  {
   "cell_type": "code",
   "execution_count": 24,
   "id": "6a32465f",
   "metadata": {},
   "outputs": [
    {
     "name": "stdout",
     "output_type": "stream",
     "text": [
      "                     CI 95%(2.5%)  CI 95%(97.5%)  Odds Ratio  pvalue\n",
      "const                    3.104935     119.452825   19.258589   0.001\n",
      "Age                      0.913527       0.991045    0.951497   0.017\n",
      "Gender_Male              0.003785       0.036593    0.011769   0.000\n",
      "Polyuria_Yes            19.809786     200.305053   62.992066   0.000\n",
      "Polydipsia_Yes          41.476452     744.445256  175.718376   0.000\n",
      "Polyphagia_Yes           1.308163       8.150403    3.265281   0.011\n",
      "Genital thrush_Yes       2.137282      14.695090    5.604245   0.000\n",
      "Itching_Yes              0.035547       0.266386    0.097310   0.000\n",
      "Irritability_Yes         3.748737      28.907751   10.409974   0.000\n",
      "partial paresis_Yes      1.457535       8.897671    3.601203   0.005\n"
     ]
    }
   ],
   "source": [
    "#Statistical information regarding confidence intervals, P-values and Odds Ration\n",
    "params = np.exp(result.params)\n",
    "conf = np.exp(result.conf_int())\n",
    "conf['OR'] = params\n",
    "pvalue=round(result.pvalues,3)\n",
    "conf['pvalue']=pvalue\n",
    "conf.columns = ['CI 95%(2.5%)', 'CI 95%(97.5%)', 'Odds Ratio','pvalue']\n",
    "print ((conf))"
   ]
  },
  {
   "cell_type": "markdown",
   "id": "147bd2f5",
   "metadata": {},
   "source": [
    "### Interpreting Odds Ratio\n",
    "Patients with **Polyuria** are 62  times likely to be diabetic.\n",
    "\n",
    "Patients with **Polydipsia** are 175 times more likely to be diabetic\n",
    "\n",
    "Patients with **Polyphagia** are 3 times more likely to be diabetic\n",
    "\n",
    "Patients with **Genital thrush** are 5 times more likely to be diabetic\n",
    "\n",
    "Patients with **irritability** are 10 times more likely to be diabetic\n",
    "\n",
    "Patients with **partial paresis** are 3 times more likely to be diabetic\n",
    "\n",
    "Patients with **Ithching** alone are 3% less likely to be a diabetic indicator.\n",
    "\n",
    "Patients **Age** alone are 5% less likely to be a diabetic indicator.\n",
    "\n",
    "Patients **Gender** 99% less likely alone to be an indicator for a diabetes\n",
    "\n",
    "\n",
    "### Prepping for The Machine Learning Models\n",
    "First, we identify our 'Y', in which case is 'class_Positive' and our 'X' will be the columns who had strong statistical relevance with our target variable 'Y', as I discussed above.\n",
    "\n",
    "Also using value counts, I wanted to look at class distribution of of the class_Positive. That is what 'value_counts' provides.\n",
    "\n",
    "By setting 'normalize=True' , the object returned will contain the relative frequencies of the unique values.\n"
   ]
  },
  {
   "cell_type": "code",
   "execution_count": 25,
   "id": "c3ff11bc",
   "metadata": {},
   "outputs": [
    {
     "name": "stdout",
     "output_type": "stream",
     "text": [
      "Original class distribution: \n",
      "\n",
      "1    320\n",
      "0    200\n",
      "Name: class_Positive, dtype: int64\n",
      "1    0.615385\n",
      "0    0.384615\n",
      "Name: class_Positive, dtype: float64\n"
     ]
    }
   ],
   "source": [
    "y = df1['class_Positive']\n",
    "X = df1[cols]\n",
    "\n",
    "\n",
    "# Class distribution - Pre-SMOTE\n",
    "print('Original class distribution: \\n')\n",
    "print(y.value_counts())\n",
    "print(y.value_counts(normalize = True))"
   ]
  },
  {
   "cell_type": "markdown",
   "id": "22750565",
   "metadata": {},
   "source": [
    "### Train Test Split\n",
    "Train Test Split here splits the data into test sets and train sets. We set the test size to 0.25, or 25% of the data.\n",
    "\n",
    "The train-test split procedure is used to estimate the performance of machine learning algorithms when they are used to make predictions on data not used to train the model.\n",
    "\n",
    "Train Dataset: Used to fit the machine learning model.\n",
    "\n",
    "Test Dataset: Used to evaluate the fit machine learning model."
   ]
  },
  {
   "cell_type": "code",
   "execution_count": 26,
   "id": "b1651b8f",
   "metadata": {},
   "outputs": [],
   "source": [
    "X_train, X_test, y_train, y_test = train_test_split(X, y, test_size = 0.25, random_state=123)"
   ]
  },
  {
   "cell_type": "markdown",
   "id": "d4a2478e",
   "metadata": {},
   "source": [
    "### SMOTE: Synthetic Minority Over-sampling Technique\n",
    "Because 61% of our data was 'positive' and 38% was 'negative', there is a large class imbalance. This will be fixed using SMOTE\n",
    "\n",
    "SMOTE stands for **Synthetic Minority Oversampling**. Here, rather then simply oversampling the minority class with replacement (which simply adds duplicate cases to the dataset), the algorithm generates new sample data by creating 'synthetic' examples that are combinations of the closest minority class cases.\n",
    "\n"
   ]
  },
  {
   "cell_type": "code",
   "execution_count": 27,
   "id": "e685824f",
   "metadata": {},
   "outputs": [
    {
     "name": "stdout",
     "output_type": "stream",
     "text": [
      "-----------------------------------------\n",
      "Synthetic sample class distribution: \n",
      "\n",
      "0    238\n",
      "1    238\n",
      "Name: class_Positive, dtype: int64\n"
     ]
    }
   ],
   "source": [
    "smote = SMOTE(random_state = 777)\n",
    "X_train, y_train = smote.fit_sample(X_train, y_train)\n",
    "\n",
    "# Preview synthetic sample class distribution\n",
    "print('-----------------------------------------')\n",
    "print('Synthetic sample class distribution: \\n')\n",
    "print(y_train.value_counts())"
   ]
  },
  {
   "cell_type": "markdown",
   "id": "67f57866",
   "metadata": {},
   "source": [
    "#### LOGISTIC REGRESSION\n",
    "Logistic regression is used to describe data and to explain the relationship between one dependent binary variable and one or more independent variables.\n",
    "\n",
    "First starting out, we will instantiate the model.\n",
    "\n",
    "Next we set the paramerters for grid searchCV. Here we are using Solver, which is an algorithm used in the optimization problem. For small datasets, ‘liblinear’ is a good choice, whereas ‘sag’ and ‘saga’ are faster for large ones. Another parameter is penalty, which specifies the norm of the penalty,None: no penalty is added, l2: l2 penalty added, and l1: l1 penalty is added, and elasticnet: both l1 and l2 penalty are added.\n",
    "\n",
    "\n",
    "Then we use GridsearchCV. GridSearchCV is a technique to search through the best parameter values from the given set of the grid of parameters.\n",
    "\n",
    "we fit the data, and then use **.best_params_** which tells use the best parameters for our model. Lastly given the parameters to use, we Instantiate them model with set parameters."
   ]
  },
  {
   "cell_type": "code",
   "execution_count": 28,
   "id": "5f5376c4",
   "metadata": {},
   "outputs": [],
   "source": [
    "log_clf = LogisticRegression()"
   ]
  },
  {
   "cell_type": "code",
   "execution_count": 29,
   "id": "b0b6dc2c",
   "metadata": {},
   "outputs": [],
   "source": [
    "#Parameters for GridSearchCV\n",
    "log_grid = {'solver': ['lbfgs', 'liblinear', 'newton-cg', 'newton-cholesky', 'sag', 'saga'],\n",
    "           'penalty': ['l1', 'l2', 'None', 'elasticnet']}"
   ]
  },
  {
   "cell_type": "code",
   "execution_count": 30,
   "id": "8c7dadab",
   "metadata": {},
   "outputs": [],
   "source": [
    "log = GridSearchCV(log_clf, log_grid, scoring = 'accuracy', cv = 3)"
   ]
  },
  {
   "cell_type": "code",
   "execution_count": 31,
   "id": "15c633e8",
   "metadata": {},
   "outputs": [
    {
     "data": {
      "text/html": [
       "<style>#sk-container-id-1 {color: black;background-color: white;}#sk-container-id-1 pre{padding: 0;}#sk-container-id-1 div.sk-toggleable {background-color: white;}#sk-container-id-1 label.sk-toggleable__label {cursor: pointer;display: block;width: 100%;margin-bottom: 0;padding: 0.3em;box-sizing: border-box;text-align: center;}#sk-container-id-1 label.sk-toggleable__label-arrow:before {content: \"▸\";float: left;margin-right: 0.25em;color: #696969;}#sk-container-id-1 label.sk-toggleable__label-arrow:hover:before {color: black;}#sk-container-id-1 div.sk-estimator:hover label.sk-toggleable__label-arrow:before {color: black;}#sk-container-id-1 div.sk-toggleable__content {max-height: 0;max-width: 0;overflow: hidden;text-align: left;background-color: #f0f8ff;}#sk-container-id-1 div.sk-toggleable__content pre {margin: 0.2em;color: black;border-radius: 0.25em;background-color: #f0f8ff;}#sk-container-id-1 input.sk-toggleable__control:checked~div.sk-toggleable__content {max-height: 200px;max-width: 100%;overflow: auto;}#sk-container-id-1 input.sk-toggleable__control:checked~label.sk-toggleable__label-arrow:before {content: \"▾\";}#sk-container-id-1 div.sk-estimator input.sk-toggleable__control:checked~label.sk-toggleable__label {background-color: #d4ebff;}#sk-container-id-1 div.sk-label input.sk-toggleable__control:checked~label.sk-toggleable__label {background-color: #d4ebff;}#sk-container-id-1 input.sk-hidden--visually {border: 0;clip: rect(1px 1px 1px 1px);clip: rect(1px, 1px, 1px, 1px);height: 1px;margin: -1px;overflow: hidden;padding: 0;position: absolute;width: 1px;}#sk-container-id-1 div.sk-estimator {font-family: monospace;background-color: #f0f8ff;border: 1px dotted black;border-radius: 0.25em;box-sizing: border-box;margin-bottom: 0.5em;}#sk-container-id-1 div.sk-estimator:hover {background-color: #d4ebff;}#sk-container-id-1 div.sk-parallel-item::after {content: \"\";width: 100%;border-bottom: 1px solid gray;flex-grow: 1;}#sk-container-id-1 div.sk-label:hover label.sk-toggleable__label {background-color: #d4ebff;}#sk-container-id-1 div.sk-serial::before {content: \"\";position: absolute;border-left: 1px solid gray;box-sizing: border-box;top: 0;bottom: 0;left: 50%;z-index: 0;}#sk-container-id-1 div.sk-serial {display: flex;flex-direction: column;align-items: center;background-color: white;padding-right: 0.2em;padding-left: 0.2em;position: relative;}#sk-container-id-1 div.sk-item {position: relative;z-index: 1;}#sk-container-id-1 div.sk-parallel {display: flex;align-items: stretch;justify-content: center;background-color: white;position: relative;}#sk-container-id-1 div.sk-item::before, #sk-container-id-1 div.sk-parallel-item::before {content: \"\";position: absolute;border-left: 1px solid gray;box-sizing: border-box;top: 0;bottom: 0;left: 50%;z-index: -1;}#sk-container-id-1 div.sk-parallel-item {display: flex;flex-direction: column;z-index: 1;position: relative;background-color: white;}#sk-container-id-1 div.sk-parallel-item:first-child::after {align-self: flex-end;width: 50%;}#sk-container-id-1 div.sk-parallel-item:last-child::after {align-self: flex-start;width: 50%;}#sk-container-id-1 div.sk-parallel-item:only-child::after {width: 0;}#sk-container-id-1 div.sk-dashed-wrapped {border: 1px dashed gray;margin: 0 0.4em 0.5em 0.4em;box-sizing: border-box;padding-bottom: 0.4em;background-color: white;}#sk-container-id-1 div.sk-label label {font-family: monospace;font-weight: bold;display: inline-block;line-height: 1.2em;}#sk-container-id-1 div.sk-label-container {text-align: center;}#sk-container-id-1 div.sk-container {/* jupyter's `normalize.less` sets `[hidden] { display: none; }` but bootstrap.min.css set `[hidden] { display: none !important; }` so we also need the `!important` here to be able to override the default hidden behavior on the sphinx rendered scikit-learn.org. See: https://github.com/scikit-learn/scikit-learn/issues/21755 */display: inline-block !important;position: relative;}#sk-container-id-1 div.sk-text-repr-fallback {display: none;}</style><div id=\"sk-container-id-1\" class=\"sk-top-container\"><div class=\"sk-text-repr-fallback\"><pre>GridSearchCV(cv=3, estimator=LogisticRegression(),\n",
       "             param_grid={&#x27;penalty&#x27;: [&#x27;l1&#x27;, &#x27;l2&#x27;, &#x27;None&#x27;, &#x27;elasticnet&#x27;],\n",
       "                         &#x27;solver&#x27;: [&#x27;lbfgs&#x27;, &#x27;liblinear&#x27;, &#x27;newton-cg&#x27;,\n",
       "                                    &#x27;newton-cholesky&#x27;, &#x27;sag&#x27;, &#x27;saga&#x27;]},\n",
       "             scoring=&#x27;accuracy&#x27;)</pre><b>In a Jupyter environment, please rerun this cell to show the HTML representation or trust the notebook. <br />On GitHub, the HTML representation is unable to render, please try loading this page with nbviewer.org.</b></div><div class=\"sk-container\" hidden><div class=\"sk-item sk-dashed-wrapped\"><div class=\"sk-label-container\"><div class=\"sk-label sk-toggleable\"><input class=\"sk-toggleable__control sk-hidden--visually\" id=\"sk-estimator-id-1\" type=\"checkbox\" ><label for=\"sk-estimator-id-1\" class=\"sk-toggleable__label sk-toggleable__label-arrow\">GridSearchCV</label><div class=\"sk-toggleable__content\"><pre>GridSearchCV(cv=3, estimator=LogisticRegression(),\n",
       "             param_grid={&#x27;penalty&#x27;: [&#x27;l1&#x27;, &#x27;l2&#x27;, &#x27;None&#x27;, &#x27;elasticnet&#x27;],\n",
       "                         &#x27;solver&#x27;: [&#x27;lbfgs&#x27;, &#x27;liblinear&#x27;, &#x27;newton-cg&#x27;,\n",
       "                                    &#x27;newton-cholesky&#x27;, &#x27;sag&#x27;, &#x27;saga&#x27;]},\n",
       "             scoring=&#x27;accuracy&#x27;)</pre></div></div></div><div class=\"sk-parallel\"><div class=\"sk-parallel-item\"><div class=\"sk-item\"><div class=\"sk-label-container\"><div class=\"sk-label sk-toggleable\"><input class=\"sk-toggleable__control sk-hidden--visually\" id=\"sk-estimator-id-2\" type=\"checkbox\" ><label for=\"sk-estimator-id-2\" class=\"sk-toggleable__label sk-toggleable__label-arrow\">estimator: LogisticRegression</label><div class=\"sk-toggleable__content\"><pre>LogisticRegression()</pre></div></div></div><div class=\"sk-serial\"><div class=\"sk-item\"><div class=\"sk-estimator sk-toggleable\"><input class=\"sk-toggleable__control sk-hidden--visually\" id=\"sk-estimator-id-3\" type=\"checkbox\" ><label for=\"sk-estimator-id-3\" class=\"sk-toggleable__label sk-toggleable__label-arrow\">LogisticRegression</label><div class=\"sk-toggleable__content\"><pre>LogisticRegression()</pre></div></div></div></div></div></div></div></div></div></div>"
      ],
      "text/plain": [
       "GridSearchCV(cv=3, estimator=LogisticRegression(),\n",
       "             param_grid={'penalty': ['l1', 'l2', 'None', 'elasticnet'],\n",
       "                         'solver': ['lbfgs', 'liblinear', 'newton-cg',\n",
       "                                    'newton-cholesky', 'sag', 'saga']},\n",
       "             scoring='accuracy')"
      ]
     },
     "execution_count": 31,
     "metadata": {},
     "output_type": "execute_result"
    }
   ],
   "source": [
    "log.fit(X_train, y_train)"
   ]
  },
  {
   "cell_type": "code",
   "execution_count": 32,
   "id": "5e89f81d",
   "metadata": {},
   "outputs": [
    {
     "data": {
      "text/plain": [
       "{'penalty': 'l2', 'solver': 'lbfgs'}"
      ]
     },
     "execution_count": 32,
     "metadata": {},
     "output_type": "execute_result"
    }
   ],
   "source": [
    "log.best_params_"
   ]
  },
  {
   "cell_type": "code",
   "execution_count": 33,
   "id": "94eb764c",
   "metadata": {},
   "outputs": [],
   "source": [
    "log = LogisticRegression(penalty = 'l2', solver = 'lbfgs', random_state = 777)"
   ]
  },
  {
   "cell_type": "code",
   "execution_count": 34,
   "id": "2b09b628",
   "metadata": {},
   "outputs": [
    {
     "data": {
      "text/html": [
       "<style>#sk-container-id-2 {color: black;background-color: white;}#sk-container-id-2 pre{padding: 0;}#sk-container-id-2 div.sk-toggleable {background-color: white;}#sk-container-id-2 label.sk-toggleable__label {cursor: pointer;display: block;width: 100%;margin-bottom: 0;padding: 0.3em;box-sizing: border-box;text-align: center;}#sk-container-id-2 label.sk-toggleable__label-arrow:before {content: \"▸\";float: left;margin-right: 0.25em;color: #696969;}#sk-container-id-2 label.sk-toggleable__label-arrow:hover:before {color: black;}#sk-container-id-2 div.sk-estimator:hover label.sk-toggleable__label-arrow:before {color: black;}#sk-container-id-2 div.sk-toggleable__content {max-height: 0;max-width: 0;overflow: hidden;text-align: left;background-color: #f0f8ff;}#sk-container-id-2 div.sk-toggleable__content pre {margin: 0.2em;color: black;border-radius: 0.25em;background-color: #f0f8ff;}#sk-container-id-2 input.sk-toggleable__control:checked~div.sk-toggleable__content {max-height: 200px;max-width: 100%;overflow: auto;}#sk-container-id-2 input.sk-toggleable__control:checked~label.sk-toggleable__label-arrow:before {content: \"▾\";}#sk-container-id-2 div.sk-estimator input.sk-toggleable__control:checked~label.sk-toggleable__label {background-color: #d4ebff;}#sk-container-id-2 div.sk-label input.sk-toggleable__control:checked~label.sk-toggleable__label {background-color: #d4ebff;}#sk-container-id-2 input.sk-hidden--visually {border: 0;clip: rect(1px 1px 1px 1px);clip: rect(1px, 1px, 1px, 1px);height: 1px;margin: -1px;overflow: hidden;padding: 0;position: absolute;width: 1px;}#sk-container-id-2 div.sk-estimator {font-family: monospace;background-color: #f0f8ff;border: 1px dotted black;border-radius: 0.25em;box-sizing: border-box;margin-bottom: 0.5em;}#sk-container-id-2 div.sk-estimator:hover {background-color: #d4ebff;}#sk-container-id-2 div.sk-parallel-item::after {content: \"\";width: 100%;border-bottom: 1px solid gray;flex-grow: 1;}#sk-container-id-2 div.sk-label:hover label.sk-toggleable__label {background-color: #d4ebff;}#sk-container-id-2 div.sk-serial::before {content: \"\";position: absolute;border-left: 1px solid gray;box-sizing: border-box;top: 0;bottom: 0;left: 50%;z-index: 0;}#sk-container-id-2 div.sk-serial {display: flex;flex-direction: column;align-items: center;background-color: white;padding-right: 0.2em;padding-left: 0.2em;position: relative;}#sk-container-id-2 div.sk-item {position: relative;z-index: 1;}#sk-container-id-2 div.sk-parallel {display: flex;align-items: stretch;justify-content: center;background-color: white;position: relative;}#sk-container-id-2 div.sk-item::before, #sk-container-id-2 div.sk-parallel-item::before {content: \"\";position: absolute;border-left: 1px solid gray;box-sizing: border-box;top: 0;bottom: 0;left: 50%;z-index: -1;}#sk-container-id-2 div.sk-parallel-item {display: flex;flex-direction: column;z-index: 1;position: relative;background-color: white;}#sk-container-id-2 div.sk-parallel-item:first-child::after {align-self: flex-end;width: 50%;}#sk-container-id-2 div.sk-parallel-item:last-child::after {align-self: flex-start;width: 50%;}#sk-container-id-2 div.sk-parallel-item:only-child::after {width: 0;}#sk-container-id-2 div.sk-dashed-wrapped {border: 1px dashed gray;margin: 0 0.4em 0.5em 0.4em;box-sizing: border-box;padding-bottom: 0.4em;background-color: white;}#sk-container-id-2 div.sk-label label {font-family: monospace;font-weight: bold;display: inline-block;line-height: 1.2em;}#sk-container-id-2 div.sk-label-container {text-align: center;}#sk-container-id-2 div.sk-container {/* jupyter's `normalize.less` sets `[hidden] { display: none; }` but bootstrap.min.css set `[hidden] { display: none !important; }` so we also need the `!important` here to be able to override the default hidden behavior on the sphinx rendered scikit-learn.org. See: https://github.com/scikit-learn/scikit-learn/issues/21755 */display: inline-block !important;position: relative;}#sk-container-id-2 div.sk-text-repr-fallback {display: none;}</style><div id=\"sk-container-id-2\" class=\"sk-top-container\"><div class=\"sk-text-repr-fallback\"><pre>LogisticRegression(random_state=777)</pre><b>In a Jupyter environment, please rerun this cell to show the HTML representation or trust the notebook. <br />On GitHub, the HTML representation is unable to render, please try loading this page with nbviewer.org.</b></div><div class=\"sk-container\" hidden><div class=\"sk-item\"><div class=\"sk-estimator sk-toggleable\"><input class=\"sk-toggleable__control sk-hidden--visually\" id=\"sk-estimator-id-4\" type=\"checkbox\" checked><label for=\"sk-estimator-id-4\" class=\"sk-toggleable__label sk-toggleable__label-arrow\">LogisticRegression</label><div class=\"sk-toggleable__content\"><pre>LogisticRegression(random_state=777)</pre></div></div></div></div></div>"
      ],
      "text/plain": [
       "LogisticRegression(random_state=777)"
      ]
     },
     "execution_count": 34,
     "metadata": {},
     "output_type": "execute_result"
    }
   ],
   "source": [
    "log.fit(X,y)"
   ]
  },
  {
   "cell_type": "code",
   "execution_count": 35,
   "id": "14bb715a",
   "metadata": {},
   "outputs": [],
   "source": [
    "log_predict = log.predict(X_test)"
   ]
  },
  {
   "cell_type": "markdown",
   "id": "26db09d6",
   "metadata": {},
   "source": [
    "### Drawing ROC Curve\n",
    "An ROC curve (receiver operating characteristic curve) is a graph showing the performance of a classification model at all classification thresholds. This curve plots two parameters:\n",
    "\n",
    "**True Positive Rate** The true positive rate (TPR, also called sensitivity). TPR is the probability that an actual positive will test positive.\n",
    "\n",
    "**False Positive Rate** The False Positive Rate (FPR, or “Fall-Out”), is the proportion of negative cases incorrectly identified as positive cases in the data (i.e. the probability that false alerts will be raised)."
   ]
  },
  {
   "cell_type": "code",
   "execution_count": 36,
   "id": "c3e0bbb0",
   "metadata": {},
   "outputs": [],
   "source": [
    "from sklearn.metrics import roc_curve, auc\n",
    "\n",
    "#Used to calculate the probability of scores of each of the datapoints\n",
    "y_score = log.fit(X_train, y_train).decision_function(X_test)\n",
    "\n",
    "fpr, tpr, thresholds = roc_curve(y_test, y_score)"
   ]
  },
  {
   "cell_type": "markdown",
   "id": "5bb21701",
   "metadata": {},
   "source": [
    "### Area Under The Curve (AUC)\n",
    "The Area Under the Curve (AUC) is the measure of the ability of a classifier(In this case Logistic Regression) to distinguish between classes and is used as a summary of the ROC curve. The higher the AUC, the better the performance of the model at distinguishing between the positive and negative classes"
   ]
  },
  {
   "cell_type": "code",
   "execution_count": 37,
   "id": "62ec0074",
   "metadata": {},
   "outputs": [
    {
     "name": "stdout",
     "output_type": "stream",
     "text": [
      "AUC: 0.9795477642276422\n"
     ]
    }
   ],
   "source": [
    "#calculating the AUC\n",
    "print('AUC: {}'.format(auc(fpr, tpr)))"
   ]
  },
  {
   "cell_type": "code",
   "execution_count": 38,
   "id": "355ce467",
   "metadata": {},
   "outputs": [
    {
     "name": "stdout",
     "output_type": "stream",
     "text": [
      "AUC: 0.9795477642276422\n"
     ]
    },
    {
     "data": {
      "image/png": "[encoded data removed]",
      "text/plain": [
       "<Figure size 720x576 with 1 Axes>"
      ]
     },
     "metadata": {},
     "output_type": "display_data"
    }
   ],
   "source": [
    "#Visualization of the AUC\n",
    "\n",
    "import matplotlib.pyplot as plt\n",
    "import seaborn as sns\n",
    "%matplotlib inline\n",
    "\n",
    "sns.set_style('darkgrid', {'axes.facecolor': '0.9'})\n",
    "\n",
    "print('AUC: {}'.format(auc(fpr, tpr)))\n",
    "plt.figure(figsize=(10, 8))\n",
    "lw = 2\n",
    "plt.plot(fpr, tpr, color='darkorange',\n",
    "         lw=lw, label='ROC curve')\n",
    "plt.plot([0, 1], [0, 1], color='navy', lw=lw, linestyle='--')\n",
    "plt.xlim([0.0, 1.0])\n",
    "plt.ylim([0.0, 1.05])\n",
    "plt.yticks([i/20.0 for i in range(21)])\n",
    "plt.xticks([i/20.0 for i in range(21)])\n",
    "plt.xlabel('False Positive Rate')\n",
    "plt.ylabel('True Positive Rate')\n",
    "plt.title('Receiver operating characteristic (ROC) Curve')\n",
    "plt.legend(loc='lower right')\n",
    "plt.show()"
   ]
  },
  {
   "cell_type": "markdown",
   "id": "75bc349c",
   "metadata": {},
   "source": [
    "#### The Area Under the Curve (AUC) in this case our model has a score of 0.97/1.00 or 97%\n",
    "\n",
    "\n",
    "### Confusion matrix for binary classification\n",
    "In the field of machine learning and specifically the problem of statistical classification, a confusion matrix, also known as an error matrix, is a specific table layout that allows visualization of the performance of an algorithm.\n",
    "\n",
    "I already discussed the true positive rate, and the false positive rate.\n",
    "\n",
    "The other two included in the confusion matrix are\n",
    "\n",
    "**true negative rate(TN)** - A test result that correctly indicates the absence of a condition or characteristic\n",
    "\n",
    "**false negative rate (FN)** - A test result which wrongly indicates that a particular condition or attribute is absent\n",
    "\n",
    "First we create predictions\n",
    "\n",
    "Next, using the confusion plot we Y_test set with predictions to get True Positive Rate, False Positive Rate, True Negative Rate, and False Negative Rate."
   ]
  },
  {
   "cell_type": "code",
   "execution_count": 39,
   "id": "aa27748a",
   "metadata": {},
   "outputs": [],
   "source": [
    "#Predictions on Test Set\n",
    "log_predict = log.predict(X_test)"
   ]
  },
  {
   "cell_type": "code",
   "execution_count": 40,
   "id": "13f43fa5",
   "metadata": {},
   "outputs": [
    {
     "name": "stdout",
     "output_type": "stream",
     "text": [
      "True Positive(TP)  =  76\n",
      "False Positive(FP) =  5\n",
      "True Negative(TN)  =  43\n",
      "False Negative(FN) =  6\n",
      "Accuracy of the binary classification = 0.915\n"
     ]
    }
   ],
   "source": [
    "#Calculating the accuracy score by comparing the actual values and predicted values.\n",
    "from sklearn.metrics import confusion_matrix\n",
    "\n",
    "cm = confusion_matrix(y_test, log_predict)\n",
    "\n",
    "TN, FP, FN, TP = confusion_matrix(y_test, log_predict).ravel()\n",
    "#TN, FP, FN, TP = confusion_matrix(y_test, predictions)\n",
    "\n",
    "print('True Positive(TP)  = ', TP)\n",
    "print('False Positive(FP) = ', FP)\n",
    "print('True Negative(TN)  = ', TN)\n",
    "print('False Negative(FN) = ', FN)\n",
    "\n",
    "accuracy =  (TP+TN) /(TP+FP+TN+FN)\n",
    "\n",
    "print('Accuracy of the binary classification = {:0.3f}'.format(accuracy))"
   ]
  },
  {
   "cell_type": "code",
   "execution_count": 41,
   "id": "fe8d9537",
   "metadata": {},
   "outputs": [
    {
     "data": {
      "image/png": "[encoded data removed]",
      "text/plain": [
       "<Figure size 432x288 with 2 Axes>"
      ]
     },
     "metadata": {},
     "output_type": "display_data"
    }
   ],
   "source": [
    "#Visual Representation of the Confusion Matrix\n",
    "from sklearn.metrics import plot_confusion_matrix\n",
    "\n",
    "\n",
    "plot_confusion_matrix(log,X_test,y_test)\n",
    "\n",
    "plt.tick_params(axis=u'both', which=u'both',length=0)\n",
    "plt.grid(b=None)"
   ]
  },
  {
   "cell_type": "markdown",
   "id": "9e0a6666",
   "metadata": {},
   "source": [
    "### Classification report\n",
    "**Precision**: Percentage of correct positive predictions relative to total positive predictions.\n",
    "\n",
    "**Recall**: Percentage of correct positive predictions relative to total actual positives.\n",
    "\n",
    "**F1 Score**: A weighted harmonic mean of precision and recall. The closer to 1, the better the model. \n",
    "\n",
    "F1 Score =  2 * (Precision * Recall) / (Precision + Recall)\n",
    "\n",
    "**Accuracy**: One of the more obvious metrics, it is the measure of all the correctly identified cases. It is most used when all the classes are equally important."
   ]
  },
  {
   "cell_type": "code",
   "execution_count": 42,
   "id": "fb3135a4",
   "metadata": {},
   "outputs": [
    {
     "name": "stdout",
     "output_type": "stream",
     "text": [
      "              precision    recall  f1-score   support\n",
      "\n",
      "           0       0.88      0.90      0.89        48\n",
      "           1       0.94      0.93      0.93        82\n",
      "\n",
      "    accuracy                           0.92       130\n",
      "   macro avg       0.91      0.91      0.91       130\n",
      "weighted avg       0.92      0.92      0.92       130\n",
      "\n"
     ]
    }
   ],
   "source": [
    "#evaluation metrics of Logistic Regression Model\n",
    "print (classification_report(y_test, log_predict))"
   ]
  },
  {
   "cell_type": "markdown",
   "id": "f28f088a",
   "metadata": {},
   "source": [
    "### Interpretation of classification report\n",
    "\n",
    "Precision: Out of all the patients that the model predicted would have diabetes, only 94% actually did.\n",
    "\n",
    "Recall: Out of all the cusomters that actually did have diabetes, the model only predicted this outcome correctly for 93% of those patients\n",
    "\n",
    "f1 score: with an f1 score of 0.93, the model did a really great job of predicting whether or not customers will have diabetes.\n",
    "\n",
    "**The Confusion matrix performance on the Logistic Regresson classifier shows accuracy score of 92%**\n",
    "\n",
    "\n",
    "\n",
    "\n",
    "\n",
    "### KNN - K-NEAREST NEIGHBORS\n",
    "The k-nearest neighbors (KNN) algorithm is a data classification method for estimating the likelihood that a data point will become a member of one group or another based on what group the data points nearest to it belong to.\n",
    "\n",
    "The k-nearest neighbor algorithm is a type of supervised machine learning algorithm used to solve classification and regression problems.\n",
    "\n",
    "First starting out, we will instantiate the model.\n",
    "\n",
    "Next we set the paramerters for grid searchCV. Here we are using n_neighbors, which is number of neighbors required for each sample.\n",
    "\n",
    "Then we use GridsearchCV. GridSearchCV is a technique to search through the best parameter values from the given set of the grid of parameters.\n",
    "\n",
    "we fit the data, and then use .best_params_ which tells use the best parameters for our model. Lastly given the parameters to use, we Instantiate them model with set parameters."
   ]
  },
  {
   "cell_type": "code",
   "execution_count": 43,
   "id": "0385f5ae",
   "metadata": {},
   "outputs": [],
   "source": [
    "#Calling out the classifier\n",
    "knn_clf = KNeighborsClassifier()"
   ]
  },
  {
   "cell_type": "code",
   "execution_count": 44,
   "id": "d7dbd3fc",
   "metadata": {},
   "outputs": [],
   "source": [
    "#Parameters for GridSearchCV\n",
    "knn_grid = {\n",
    "    'n_neighbors':[1,2,3,4,5,6,7,8]\n",
    "}"
   ]
  },
  {
   "cell_type": "code",
   "execution_count": 45,
   "id": "17d9f3e2",
   "metadata": {},
   "outputs": [],
   "source": [
    "knn = GridSearchCV(knn_clf, knn_grid, scoring = 'accuracy', cv = 3 )"
   ]
  },
  {
   "cell_type": "code",
   "execution_count": 46,
   "id": "56b68418",
   "metadata": {},
   "outputs": [
    {
     "data": {
      "text/html": [
       "<style>#sk-container-id-3 {color: black;background-color: white;}#sk-container-id-3 pre{padding: 0;}#sk-container-id-3 div.sk-toggleable {background-color: white;}#sk-container-id-3 label.sk-toggleable__label {cursor: pointer;display: block;width: 100%;margin-bottom: 0;padding: 0.3em;box-sizing: border-box;text-align: center;}#sk-container-id-3 label.sk-toggleable__label-arrow:before {content: \"▸\";float: left;margin-right: 0.25em;color: #696969;}#sk-container-id-3 label.sk-toggleable__label-arrow:hover:before {color: black;}#sk-container-id-3 div.sk-estimator:hover label.sk-toggleable__label-arrow:before {color: black;}#sk-container-id-3 div.sk-toggleable__content {max-height: 0;max-width: 0;overflow: hidden;text-align: left;background-color: #f0f8ff;}#sk-container-id-3 div.sk-toggleable__content pre {margin: 0.2em;color: black;border-radius: 0.25em;background-color: #f0f8ff;}#sk-container-id-3 input.sk-toggleable__control:checked~div.sk-toggleable__content {max-height: 200px;max-width: 100%;overflow: auto;}#sk-container-id-3 input.sk-toggleable__control:checked~label.sk-toggleable__label-arrow:before {content: \"▾\";}#sk-container-id-3 div.sk-estimator input.sk-toggleable__control:checked~label.sk-toggleable__label {background-color: #d4ebff;}#sk-container-id-3 div.sk-label input.sk-toggleable__control:checked~label.sk-toggleable__label {background-color: #d4ebff;}#sk-container-id-3 input.sk-hidden--visually {border: 0;clip: rect(1px 1px 1px 1px);clip: rect(1px, 1px, 1px, 1px);height: 1px;margin: -1px;overflow: hidden;padding: 0;position: absolute;width: 1px;}#sk-container-id-3 div.sk-estimator {font-family: monospace;background-color: #f0f8ff;border: 1px dotted black;border-radius: 0.25em;box-sizing: border-box;margin-bottom: 0.5em;}#sk-container-id-3 div.sk-estimator:hover {background-color: #d4ebff;}#sk-container-id-3 div.sk-parallel-item::after {content: \"\";width: 100%;border-bottom: 1px solid gray;flex-grow: 1;}#sk-container-id-3 div.sk-label:hover label.sk-toggleable__label {background-color: #d4ebff;}#sk-container-id-3 div.sk-serial::before {content: \"\";position: absolute;border-left: 1px solid gray;box-sizing: border-box;top: 0;bottom: 0;left: 50%;z-index: 0;}#sk-container-id-3 div.sk-serial {display: flex;flex-direction: column;align-items: center;background-color: white;padding-right: 0.2em;padding-left: 0.2em;position: relative;}#sk-container-id-3 div.sk-item {position: relative;z-index: 1;}#sk-container-id-3 div.sk-parallel {display: flex;align-items: stretch;justify-content: center;background-color: white;position: relative;}#sk-container-id-3 div.sk-item::before, #sk-container-id-3 div.sk-parallel-item::before {content: \"\";position: absolute;border-left: 1px solid gray;box-sizing: border-box;top: 0;bottom: 0;left: 50%;z-index: -1;}#sk-container-id-3 div.sk-parallel-item {display: flex;flex-direction: column;z-index: 1;position: relative;background-color: white;}#sk-container-id-3 div.sk-parallel-item:first-child::after {align-self: flex-end;width: 50%;}#sk-container-id-3 div.sk-parallel-item:last-child::after {align-self: flex-start;width: 50%;}#sk-container-id-3 div.sk-parallel-item:only-child::after {width: 0;}#sk-container-id-3 div.sk-dashed-wrapped {border: 1px dashed gray;margin: 0 0.4em 0.5em 0.4em;box-sizing: border-box;padding-bottom: 0.4em;background-color: white;}#sk-container-id-3 div.sk-label label {font-family: monospace;font-weight: bold;display: inline-block;line-height: 1.2em;}#sk-container-id-3 div.sk-label-container {text-align: center;}#sk-container-id-3 div.sk-container {/* jupyter's `normalize.less` sets `[hidden] { display: none; }` but bootstrap.min.css set `[hidden] { display: none !important; }` so we also need the `!important` here to be able to override the default hidden behavior on the sphinx rendered scikit-learn.org. See: https://github.com/scikit-learn/scikit-learn/issues/21755 */display: inline-block !important;position: relative;}#sk-container-id-3 div.sk-text-repr-fallback {display: none;}</style><div id=\"sk-container-id-3\" class=\"sk-top-container\"><div class=\"sk-text-repr-fallback\"><pre>GridSearchCV(cv=3, estimator=KNeighborsClassifier(),\n",
       "             param_grid={&#x27;n_neighbors&#x27;: [1, 2, 3, 4, 5, 6, 7, 8]},\n",
       "             scoring=&#x27;accuracy&#x27;)</pre><b>In a Jupyter environment, please rerun this cell to show the HTML representation or trust the notebook. <br />On GitHub, the HTML representation is unable to render, please try loading this page with nbviewer.org.</b></div><div class=\"sk-container\" hidden><div class=\"sk-item sk-dashed-wrapped\"><div class=\"sk-label-container\"><div class=\"sk-label sk-toggleable\"><input class=\"sk-toggleable__control sk-hidden--visually\" id=\"sk-estimator-id-5\" type=\"checkbox\" ><label for=\"sk-estimator-id-5\" class=\"sk-toggleable__label sk-toggleable__label-arrow\">GridSearchCV</label><div class=\"sk-toggleable__content\"><pre>GridSearchCV(cv=3, estimator=KNeighborsClassifier(),\n",
       "             param_grid={&#x27;n_neighbors&#x27;: [1, 2, 3, 4, 5, 6, 7, 8]},\n",
       "             scoring=&#x27;accuracy&#x27;)</pre></div></div></div><div class=\"sk-parallel\"><div class=\"sk-parallel-item\"><div class=\"sk-item\"><div class=\"sk-label-container\"><div class=\"sk-label sk-toggleable\"><input class=\"sk-toggleable__control sk-hidden--visually\" id=\"sk-estimator-id-6\" type=\"checkbox\" ><label for=\"sk-estimator-id-6\" class=\"sk-toggleable__label sk-toggleable__label-arrow\">estimator: KNeighborsClassifier</label><div class=\"sk-toggleable__content\"><pre>KNeighborsClassifier()</pre></div></div></div><div class=\"sk-serial\"><div class=\"sk-item\"><div class=\"sk-estimator sk-toggleable\"><input class=\"sk-toggleable__control sk-hidden--visually\" id=\"sk-estimator-id-7\" type=\"checkbox\" ><label for=\"sk-estimator-id-7\" class=\"sk-toggleable__label sk-toggleable__label-arrow\">KNeighborsClassifier</label><div class=\"sk-toggleable__content\"><pre>KNeighborsClassifier()</pre></div></div></div></div></div></div></div></div></div></div>"
      ],
      "text/plain": [
       "GridSearchCV(cv=3, estimator=KNeighborsClassifier(),\n",
       "             param_grid={'n_neighbors': [1, 2, 3, 4, 5, 6, 7, 8]},\n",
       "             scoring='accuracy')"
      ]
     },
     "execution_count": 46,
     "metadata": {},
     "output_type": "execute_result"
    }
   ],
   "source": [
    "knn.fit(X_train, y_train)"
   ]
  },
  {
   "cell_type": "code",
   "execution_count": 47,
   "id": "5d5faf37",
   "metadata": {},
   "outputs": [
    {
     "data": {
      "text/plain": [
       "{'n_neighbors': 1}"
      ]
     },
     "execution_count": 47,
     "metadata": {},
     "output_type": "execute_result"
    }
   ],
   "source": [
    "knn.best_params_"
   ]
  },
  {
   "cell_type": "code",
   "execution_count": 48,
   "id": "3ef71b66",
   "metadata": {},
   "outputs": [
    {
     "data": {
      "text/html": [
       "<style>#sk-container-id-4 {color: black;background-color: white;}#sk-container-id-4 pre{padding: 0;}#sk-container-id-4 div.sk-toggleable {background-color: white;}#sk-container-id-4 label.sk-toggleable__label {cursor: pointer;display: block;width: 100%;margin-bottom: 0;padding: 0.3em;box-sizing: border-box;text-align: center;}#sk-container-id-4 label.sk-toggleable__label-arrow:before {content: \"▸\";float: left;margin-right: 0.25em;color: #696969;}#sk-container-id-4 label.sk-toggleable__label-arrow:hover:before {color: black;}#sk-container-id-4 div.sk-estimator:hover label.sk-toggleable__label-arrow:before {color: black;}#sk-container-id-4 div.sk-toggleable__content {max-height: 0;max-width: 0;overflow: hidden;text-align: left;background-color: #f0f8ff;}#sk-container-id-4 div.sk-toggleable__content pre {margin: 0.2em;color: black;border-radius: 0.25em;background-color: #f0f8ff;}#sk-container-id-4 input.sk-toggleable__control:checked~div.sk-toggleable__content {max-height: 200px;max-width: 100%;overflow: auto;}#sk-container-id-4 input.sk-toggleable__control:checked~label.sk-toggleable__label-arrow:before {content: \"▾\";}#sk-container-id-4 div.sk-estimator input.sk-toggleable__control:checked~label.sk-toggleable__label {background-color: #d4ebff;}#sk-container-id-4 div.sk-label input.sk-toggleable__control:checked~label.sk-toggleable__label {background-color: #d4ebff;}#sk-container-id-4 input.sk-hidden--visually {border: 0;clip: rect(1px 1px 1px 1px);clip: rect(1px, 1px, 1px, 1px);height: 1px;margin: -1px;overflow: hidden;padding: 0;position: absolute;width: 1px;}#sk-container-id-4 div.sk-estimator {font-family: monospace;background-color: #f0f8ff;border: 1px dotted black;border-radius: 0.25em;box-sizing: border-box;margin-bottom: 0.5em;}#sk-container-id-4 div.sk-estimator:hover {background-color: #d4ebff;}#sk-container-id-4 div.sk-parallel-item::after {content: \"\";width: 100%;border-bottom: 1px solid gray;flex-grow: 1;}#sk-container-id-4 div.sk-label:hover label.sk-toggleable__label {background-color: #d4ebff;}#sk-container-id-4 div.sk-serial::before {content: \"\";position: absolute;border-left: 1px solid gray;box-sizing: border-box;top: 0;bottom: 0;left: 50%;z-index: 0;}#sk-container-id-4 div.sk-serial {display: flex;flex-direction: column;align-items: center;background-color: white;padding-right: 0.2em;padding-left: 0.2em;position: relative;}#sk-container-id-4 div.sk-item {position: relative;z-index: 1;}#sk-container-id-4 div.sk-parallel {display: flex;align-items: stretch;justify-content: center;background-color: white;position: relative;}#sk-container-id-4 div.sk-item::before, #sk-container-id-4 div.sk-parallel-item::before {content: \"\";position: absolute;border-left: 1px solid gray;box-sizing: border-box;top: 0;bottom: 0;left: 50%;z-index: -1;}#sk-container-id-4 div.sk-parallel-item {display: flex;flex-direction: column;z-index: 1;position: relative;background-color: white;}#sk-container-id-4 div.sk-parallel-item:first-child::after {align-self: flex-end;width: 50%;}#sk-container-id-4 div.sk-parallel-item:last-child::after {align-self: flex-start;width: 50%;}#sk-container-id-4 div.sk-parallel-item:only-child::after {width: 0;}#sk-container-id-4 div.sk-dashed-wrapped {border: 1px dashed gray;margin: 0 0.4em 0.5em 0.4em;box-sizing: border-box;padding-bottom: 0.4em;background-color: white;}#sk-container-id-4 div.sk-label label {font-family: monospace;font-weight: bold;display: inline-block;line-height: 1.2em;}#sk-container-id-4 div.sk-label-container {text-align: center;}#sk-container-id-4 div.sk-container {/* jupyter's `normalize.less` sets `[hidden] { display: none; }` but bootstrap.min.css set `[hidden] { display: none !important; }` so we also need the `!important` here to be able to override the default hidden behavior on the sphinx rendered scikit-learn.org. See: https://github.com/scikit-learn/scikit-learn/issues/21755 */display: inline-block !important;position: relative;}#sk-container-id-4 div.sk-text-repr-fallback {display: none;}</style><div id=\"sk-container-id-4\" class=\"sk-top-container\"><div class=\"sk-text-repr-fallback\"><pre>KNeighborsClassifier(n_neighbors=1)</pre><b>In a Jupyter environment, please rerun this cell to show the HTML representation or trust the notebook. <br />On GitHub, the HTML representation is unable to render, please try loading this page with nbviewer.org.</b></div><div class=\"sk-container\" hidden><div class=\"sk-item\"><div class=\"sk-estimator sk-toggleable\"><input class=\"sk-toggleable__control sk-hidden--visually\" id=\"sk-estimator-id-8\" type=\"checkbox\" checked><label for=\"sk-estimator-id-8\" class=\"sk-toggleable__label sk-toggleable__label-arrow\">KNeighborsClassifier</label><div class=\"sk-toggleable__content\"><pre>KNeighborsClassifier(n_neighbors=1)</pre></div></div></div></div></div>"
      ],
      "text/plain": [
       "KNeighborsClassifier(n_neighbors=1)"
      ]
     },
     "execution_count": 48,
     "metadata": {},
     "output_type": "execute_result"
    }
   ],
   "source": [
    "knn = KNeighborsClassifier(n_neighbors = 1)\n",
    "knn.fit(X_train,y_train)"
   ]
  },
  {
   "cell_type": "code",
   "execution_count": 49,
   "id": "99228984",
   "metadata": {},
   "outputs": [],
   "source": [
    "knn_prediction = knn.predict(X_test)"
   ]
  },
  {
   "cell_type": "markdown",
   "id": "daa75f93",
   "metadata": {},
   "source": [
    "### Confusion Matrix with KNN Algorithm"
   ]
  },
  {
   "cell_type": "code",
   "execution_count": 50,
   "id": "f429e107",
   "metadata": {},
   "outputs": [
    {
     "name": "stdout",
     "output_type": "stream",
     "text": [
      "[[46  2]\n",
      " [ 8 74]]\n",
      "True Positive(TP)  =  74\n",
      "False Positive(FP) =  2\n",
      "True Negative(TN)  =  46\n",
      "False Negative(FN) =  8\n",
      "Accuracy of the binary classification = 0.923\n"
     ]
    }
   ],
   "source": [
    "# Evaluating KNN Algorithm\n",
    "print(confusion_matrix(y_test,knn_prediction))\n",
    "\n",
    "\n",
    "TN, FP, FN, TP = confusion_matrix(y_test, knn_prediction).ravel()\n",
    "\n",
    "print('True Positive(TP)  = ', TP)\n",
    "print('False Positive(FP) = ', FP)\n",
    "print('True Negative(TN)  = ', TN)\n",
    "print('False Negative(FN) = ', FN)\n",
    "\n",
    "accuracy =  (TP+TN) /(TP+FP+TN+FN)\n",
    "\n",
    "print('Accuracy of the binary classification = {:0.3f}'.format(accuracy))"
   ]
  },
  {
   "cell_type": "code",
   "execution_count": 51,
   "id": "1ec0891d",
   "metadata": {},
   "outputs": [
    {
     "data": {
      "image/png": "[encoded data removed]",
      "text/plain": [
       "<Figure size 432x288 with 2 Axes>"
      ]
     },
     "metadata": {},
     "output_type": "display_data"
    }
   ],
   "source": [
    "plot_confusion_matrix(knn,X_test,y_test)\n",
    "\n",
    "plt.tick_params(axis=u'both', which=u'both',length=0)\n",
    "plt.grid(b=None)"
   ]
  },
  {
   "cell_type": "markdown",
   "id": "0719a86c",
   "metadata": {},
   "source": [
    "### KNN Classification Report"
   ]
  },
  {
   "cell_type": "code",
   "execution_count": 52,
   "id": "e3eeaee5",
   "metadata": {},
   "outputs": [
    {
     "name": "stdout",
     "output_type": "stream",
     "text": [
      "              precision    recall  f1-score   support\n",
      "\n",
      "           0       0.85      0.96      0.90        48\n",
      "           1       0.97      0.90      0.94        82\n",
      "\n",
      "    accuracy                           0.92       130\n",
      "   macro avg       0.91      0.93      0.92       130\n",
      "weighted avg       0.93      0.92      0.92       130\n",
      "\n"
     ]
    }
   ],
   "source": [
    "#Printing Classification Report\n",
    "print (classification_report(y_test, knn_prediction))"
   ]
  },
  {
   "cell_type": "markdown",
   "id": "e465e5af",
   "metadata": {},
   "source": [
    "### Interpretation of classification report\n",
    "\n",
    "Precision: Out of all the patients that the model predicted would have diabetes, only 97% actually did.\n",
    "\n",
    "Recall: Out of all the cusomters that actually did have diabetes, the model only predicted this outcome correctly for 90% of those patients\n",
    "\n",
    "f1 score: with an f1 score of 0.94, the model did a really great job of predicting whether or not customers will have diabetes.\n",
    "\n",
    "**The Confusion matrix performance on the KNN classifier shows accuracy score of 92%**\n",
    "\n",
    "\n",
    "\n",
    "### DECISION TREE ALGORITHM\n",
    "Decision Trees (DTs) are a non-parametric supervised learning method used for classification and regression. The goal is to create a model that predicts the value of a target variable by learning simple decision rules inferred from the data features.\n",
    "\n",
    "The nonparametric method refers to a type of statistic that does not make any assumptions about the characteristics of the sample (its parameters) or whether the observed data is quantitative or qualitative.\n",
    "\n",
    "First starting out, we will instantiate the model.\n",
    "\n",
    "Next we set the paramerters for grid searchCV. Here we are using criterion, which is the function to measure of quality of split. Entropy can be defined as a measure of the purity of the sub split. max_depth, is the maximum depth of the tree. min_samples_split, is the minimum number of samples required to split an internal node\n",
    "\n",
    "Then we use GridsearchCV. GridSearchCV is a technique to search through the best parameter values from the given set of the grid of parameters.\n",
    "\n",
    "we fit the data, and then use .best_params_ which tells use the best parameters for our model. Lastly given the parameters to use, we Instantiate them model with set parameters."
   ]
  },
  {
   "cell_type": "code",
   "execution_count": 53,
   "id": "2c964091",
   "metadata": {},
   "outputs": [],
   "source": [
    "#Instantiating Decision Tree Classifier\n",
    "dt_clf = DecisionTreeClassifier()"
   ]
  },
  {
   "cell_type": "code",
   "execution_count": 54,
   "id": "fd83fd0b",
   "metadata": {},
   "outputs": [],
   "source": [
    "#Parameters for GridSearchCV\n",
    "dt_grid = {'criterion': ['gini', 'entropy'],\n",
    "    'max_depth': [2, 5, 10, 11,12,13,14,15],\n",
    "    'min_samples_split': [2,3,4, 5, 10, 20]}"
   ]
  },
  {
   "cell_type": "code",
   "execution_count": 55,
   "id": "262539f0",
   "metadata": {},
   "outputs": [],
   "source": [
    "#Instantiating GridSearchCV with classifier to find best parameters\n",
    "dt = GridSearchCV(dt_clf, dt_grid, scoring = 'accuracy', cv = 3 )"
   ]
  },
  {
   "cell_type": "code",
   "execution_count": 56,
   "id": "e5cdd75b",
   "metadata": {},
   "outputs": [
    {
     "data": {
      "text/html": [
       "<style>#sk-container-id-5 {color: black;background-color: white;}#sk-container-id-5 pre{padding: 0;}#sk-container-id-5 div.sk-toggleable {background-color: white;}#sk-container-id-5 label.sk-toggleable__label {cursor: pointer;display: block;width: 100%;margin-bottom: 0;padding: 0.3em;box-sizing: border-box;text-align: center;}#sk-container-id-5 label.sk-toggleable__label-arrow:before {content: \"▸\";float: left;margin-right: 0.25em;color: #696969;}#sk-container-id-5 label.sk-toggleable__label-arrow:hover:before {color: black;}#sk-container-id-5 div.sk-estimator:hover label.sk-toggleable__label-arrow:before {color: black;}#sk-container-id-5 div.sk-toggleable__content {max-height: 0;max-width: 0;overflow: hidden;text-align: left;background-color: #f0f8ff;}#sk-container-id-5 div.sk-toggleable__content pre {margin: 0.2em;color: black;border-radius: 0.25em;background-color: #f0f8ff;}#sk-container-id-5 input.sk-toggleable__control:checked~div.sk-toggleable__content {max-height: 200px;max-width: 100%;overflow: auto;}#sk-container-id-5 input.sk-toggleable__control:checked~label.sk-toggleable__label-arrow:before {content: \"▾\";}#sk-container-id-5 div.sk-estimator input.sk-toggleable__control:checked~label.sk-toggleable__label {background-color: #d4ebff;}#sk-container-id-5 div.sk-label input.sk-toggleable__control:checked~label.sk-toggleable__label {background-color: #d4ebff;}#sk-container-id-5 input.sk-hidden--visually {border: 0;clip: rect(1px 1px 1px 1px);clip: rect(1px, 1px, 1px, 1px);height: 1px;margin: -1px;overflow: hidden;padding: 0;position: absolute;width: 1px;}#sk-container-id-5 div.sk-estimator {font-family: monospace;background-color: #f0f8ff;border: 1px dotted black;border-radius: 0.25em;box-sizing: border-box;margin-bottom: 0.5em;}#sk-container-id-5 div.sk-estimator:hover {background-color: #d4ebff;}#sk-container-id-5 div.sk-parallel-item::after {content: \"\";width: 100%;border-bottom: 1px solid gray;flex-grow: 1;}#sk-container-id-5 div.sk-label:hover label.sk-toggleable__label {background-color: #d4ebff;}#sk-container-id-5 div.sk-serial::before {content: \"\";position: absolute;border-left: 1px solid gray;box-sizing: border-box;top: 0;bottom: 0;left: 50%;z-index: 0;}#sk-container-id-5 div.sk-serial {display: flex;flex-direction: column;align-items: center;background-color: white;padding-right: 0.2em;padding-left: 0.2em;position: relative;}#sk-container-id-5 div.sk-item {position: relative;z-index: 1;}#sk-container-id-5 div.sk-parallel {display: flex;align-items: stretch;justify-content: center;background-color: white;position: relative;}#sk-container-id-5 div.sk-item::before, #sk-container-id-5 div.sk-parallel-item::before {content: \"\";position: absolute;border-left: 1px solid gray;box-sizing: border-box;top: 0;bottom: 0;left: 50%;z-index: -1;}#sk-container-id-5 div.sk-parallel-item {display: flex;flex-direction: column;z-index: 1;position: relative;background-color: white;}#sk-container-id-5 div.sk-parallel-item:first-child::after {align-self: flex-end;width: 50%;}#sk-container-id-5 div.sk-parallel-item:last-child::after {align-self: flex-start;width: 50%;}#sk-container-id-5 div.sk-parallel-item:only-child::after {width: 0;}#sk-container-id-5 div.sk-dashed-wrapped {border: 1px dashed gray;margin: 0 0.4em 0.5em 0.4em;box-sizing: border-box;padding-bottom: 0.4em;background-color: white;}#sk-container-id-5 div.sk-label label {font-family: monospace;font-weight: bold;display: inline-block;line-height: 1.2em;}#sk-container-id-5 div.sk-label-container {text-align: center;}#sk-container-id-5 div.sk-container {/* jupyter's `normalize.less` sets `[hidden] { display: none; }` but bootstrap.min.css set `[hidden] { display: none !important; }` so we also need the `!important` here to be able to override the default hidden behavior on the sphinx rendered scikit-learn.org. See: https://github.com/scikit-learn/scikit-learn/issues/21755 */display: inline-block !important;position: relative;}#sk-container-id-5 div.sk-text-repr-fallback {display: none;}</style><div id=\"sk-container-id-5\" class=\"sk-top-container\"><div class=\"sk-text-repr-fallback\"><pre>GridSearchCV(cv=3, estimator=DecisionTreeClassifier(),\n",
       "             param_grid={&#x27;criterion&#x27;: [&#x27;gini&#x27;, &#x27;entropy&#x27;],\n",
       "                         &#x27;max_depth&#x27;: [2, 5, 10, 11, 12, 13, 14, 15],\n",
       "                         &#x27;min_samples_split&#x27;: [2, 3, 4, 5, 10, 20]},\n",
       "             scoring=&#x27;accuracy&#x27;)</pre><b>In a Jupyter environment, please rerun this cell to show the HTML representation or trust the notebook. <br />On GitHub, the HTML representation is unable to render, please try loading this page with nbviewer.org.</b></div><div class=\"sk-container\" hidden><div class=\"sk-item sk-dashed-wrapped\"><div class=\"sk-label-container\"><div class=\"sk-label sk-toggleable\"><input class=\"sk-toggleable__control sk-hidden--visually\" id=\"sk-estimator-id-9\" type=\"checkbox\" ><label for=\"sk-estimator-id-9\" class=\"sk-toggleable__label sk-toggleable__label-arrow\">GridSearchCV</label><div class=\"sk-toggleable__content\"><pre>GridSearchCV(cv=3, estimator=DecisionTreeClassifier(),\n",
       "             param_grid={&#x27;criterion&#x27;: [&#x27;gini&#x27;, &#x27;entropy&#x27;],\n",
       "                         &#x27;max_depth&#x27;: [2, 5, 10, 11, 12, 13, 14, 15],\n",
       "                         &#x27;min_samples_split&#x27;: [2, 3, 4, 5, 10, 20]},\n",
       "             scoring=&#x27;accuracy&#x27;)</pre></div></div></div><div class=\"sk-parallel\"><div class=\"sk-parallel-item\"><div class=\"sk-item\"><div class=\"sk-label-container\"><div class=\"sk-label sk-toggleable\"><input class=\"sk-toggleable__control sk-hidden--visually\" id=\"sk-estimator-id-10\" type=\"checkbox\" ><label for=\"sk-estimator-id-10\" class=\"sk-toggleable__label sk-toggleable__label-arrow\">estimator: DecisionTreeClassifier</label><div class=\"sk-toggleable__content\"><pre>DecisionTreeClassifier()</pre></div></div></div><div class=\"sk-serial\"><div class=\"sk-item\"><div class=\"sk-estimator sk-toggleable\"><input class=\"sk-toggleable__control sk-hidden--visually\" id=\"sk-estimator-id-11\" type=\"checkbox\" ><label for=\"sk-estimator-id-11\" class=\"sk-toggleable__label sk-toggleable__label-arrow\">DecisionTreeClassifier</label><div class=\"sk-toggleable__content\"><pre>DecisionTreeClassifier()</pre></div></div></div></div></div></div></div></div></div></div>"
      ],
      "text/plain": [
       "GridSearchCV(cv=3, estimator=DecisionTreeClassifier(),\n",
       "             param_grid={'criterion': ['gini', 'entropy'],\n",
       "                         'max_depth': [2, 5, 10, 11, 12, 13, 14, 15],\n",
       "                         'min_samples_split': [2, 3, 4, 5, 10, 20]},\n",
       "             scoring='accuracy')"
      ]
     },
     "execution_count": 56,
     "metadata": {},
     "output_type": "execute_result"
    }
   ],
   "source": [
    "#Fitting training dataset\n",
    "dt.fit(X_train, y_train)"
   ]
  },
  {
   "cell_type": "code",
   "execution_count": 57,
   "id": "3cbc5a29",
   "metadata": {},
   "outputs": [
    {
     "data": {
      "text/plain": [
       "{'criterion': 'gini', 'max_depth': 12, 'min_samples_split': 3}"
      ]
     },
     "execution_count": 57,
     "metadata": {},
     "output_type": "execute_result"
    }
   ],
   "source": [
    "#Finding best parameters for model\n",
    "dt.best_params_"
   ]
  },
  {
   "cell_type": "code",
   "execution_count": 58,
   "id": "e9ee9e5d",
   "metadata": {},
   "outputs": [],
   "source": [
    "#Instantiating Decision Tree with best parameters\n",
    "dt = DecisionTreeClassifier(criterion= 'gini', max_depth= 14, min_samples_split= 2)"
   ]
  },
  {
   "cell_type": "code",
   "execution_count": 59,
   "id": "527207a3",
   "metadata": {},
   "outputs": [
    {
     "data": {
      "text/html": [
       "<style>#sk-container-id-6 {color: black;background-color: white;}#sk-container-id-6 pre{padding: 0;}#sk-container-id-6 div.sk-toggleable {background-color: white;}#sk-container-id-6 label.sk-toggleable__label {cursor: pointer;display: block;width: 100%;margin-bottom: 0;padding: 0.3em;box-sizing: border-box;text-align: center;}#sk-container-id-6 label.sk-toggleable__label-arrow:before {content: \"▸\";float: left;margin-right: 0.25em;color: #696969;}#sk-container-id-6 label.sk-toggleable__label-arrow:hover:before {color: black;}#sk-container-id-6 div.sk-estimator:hover label.sk-toggleable__label-arrow:before {color: black;}#sk-container-id-6 div.sk-toggleable__content {max-height: 0;max-width: 0;overflow: hidden;text-align: left;background-color: #f0f8ff;}#sk-container-id-6 div.sk-toggleable__content pre {margin: 0.2em;color: black;border-radius: 0.25em;background-color: #f0f8ff;}#sk-container-id-6 input.sk-toggleable__control:checked~div.sk-toggleable__content {max-height: 200px;max-width: 100%;overflow: auto;}#sk-container-id-6 input.sk-toggleable__control:checked~label.sk-toggleable__label-arrow:before {content: \"▾\";}#sk-container-id-6 div.sk-estimator input.sk-toggleable__control:checked~label.sk-toggleable__label {background-color: #d4ebff;}#sk-container-id-6 div.sk-label input.sk-toggleable__control:checked~label.sk-toggleable__label {background-color: #d4ebff;}#sk-container-id-6 input.sk-hidden--visually {border: 0;clip: rect(1px 1px 1px 1px);clip: rect(1px, 1px, 1px, 1px);height: 1px;margin: -1px;overflow: hidden;padding: 0;position: absolute;width: 1px;}#sk-container-id-6 div.sk-estimator {font-family: monospace;background-color: #f0f8ff;border: 1px dotted black;border-radius: 0.25em;box-sizing: border-box;margin-bottom: 0.5em;}#sk-container-id-6 div.sk-estimator:hover {background-color: #d4ebff;}#sk-container-id-6 div.sk-parallel-item::after {content: \"\";width: 100%;border-bottom: 1px solid gray;flex-grow: 1;}#sk-container-id-6 div.sk-label:hover label.sk-toggleable__label {background-color: #d4ebff;}#sk-container-id-6 div.sk-serial::before {content: \"\";position: absolute;border-left: 1px solid gray;box-sizing: border-box;top: 0;bottom: 0;left: 50%;z-index: 0;}#sk-container-id-6 div.sk-serial {display: flex;flex-direction: column;align-items: center;background-color: white;padding-right: 0.2em;padding-left: 0.2em;position: relative;}#sk-container-id-6 div.sk-item {position: relative;z-index: 1;}#sk-container-id-6 div.sk-parallel {display: flex;align-items: stretch;justify-content: center;background-color: white;position: relative;}#sk-container-id-6 div.sk-item::before, #sk-container-id-6 div.sk-parallel-item::before {content: \"\";position: absolute;border-left: 1px solid gray;box-sizing: border-box;top: 0;bottom: 0;left: 50%;z-index: -1;}#sk-container-id-6 div.sk-parallel-item {display: flex;flex-direction: column;z-index: 1;position: relative;background-color: white;}#sk-container-id-6 div.sk-parallel-item:first-child::after {align-self: flex-end;width: 50%;}#sk-container-id-6 div.sk-parallel-item:last-child::after {align-self: flex-start;width: 50%;}#sk-container-id-6 div.sk-parallel-item:only-child::after {width: 0;}#sk-container-id-6 div.sk-dashed-wrapped {border: 1px dashed gray;margin: 0 0.4em 0.5em 0.4em;box-sizing: border-box;padding-bottom: 0.4em;background-color: white;}#sk-container-id-6 div.sk-label label {font-family: monospace;font-weight: bold;display: inline-block;line-height: 1.2em;}#sk-container-id-6 div.sk-label-container {text-align: center;}#sk-container-id-6 div.sk-container {/* jupyter's `normalize.less` sets `[hidden] { display: none; }` but bootstrap.min.css set `[hidden] { display: none !important; }` so we also need the `!important` here to be able to override the default hidden behavior on the sphinx rendered scikit-learn.org. See: https://github.com/scikit-learn/scikit-learn/issues/21755 */display: inline-block !important;position: relative;}#sk-container-id-6 div.sk-text-repr-fallback {display: none;}</style><div id=\"sk-container-id-6\" class=\"sk-top-container\"><div class=\"sk-text-repr-fallback\"><pre>DecisionTreeClassifier(max_depth=14)</pre><b>In a Jupyter environment, please rerun this cell to show the HTML representation or trust the notebook. <br />On GitHub, the HTML representation is unable to render, please try loading this page with nbviewer.org.</b></div><div class=\"sk-container\" hidden><div class=\"sk-item\"><div class=\"sk-estimator sk-toggleable\"><input class=\"sk-toggleable__control sk-hidden--visually\" id=\"sk-estimator-id-12\" type=\"checkbox\" checked><label for=\"sk-estimator-id-12\" class=\"sk-toggleable__label sk-toggleable__label-arrow\">DecisionTreeClassifier</label><div class=\"sk-toggleable__content\"><pre>DecisionTreeClassifier(max_depth=14)</pre></div></div></div></div></div>"
      ],
      "text/plain": [
       "DecisionTreeClassifier(max_depth=14)"
      ]
     },
     "execution_count": 59,
     "metadata": {},
     "output_type": "execute_result"
    }
   ],
   "source": [
    "#Fitting Training dataset for model\n",
    "dt.fit(X_train, y_train)"
   ]
  },
  {
   "cell_type": "markdown",
   "id": "a17486ed",
   "metadata": {},
   "source": [
    "### Decision Tree Confusion matrix"
   ]
  },
  {
   "cell_type": "code",
   "execution_count": 60,
   "id": "db4ded2b",
   "metadata": {},
   "outputs": [
    {
     "name": "stdout",
     "output_type": "stream",
     "text": [
      "[[44  4]\n",
      " [ 3 79]]\n",
      "True Positive(TP)  =  79\n",
      "False Positive(FP) =  4\n",
      "True Negative(TN)  =  44\n",
      "False Negative(FN) =  3\n",
      "Accuracy of the binary classification = 0.946\n"
     ]
    }
   ],
   "source": [
    "#Creating Predictions\n",
    "dt_prediction = dt.predict(X_test)\n",
    "\n",
    "#Creating Confusion Matrix\n",
    "print(confusion_matrix(y_test,dt_prediction))\n",
    "\n",
    "TN, FP, FN, TP = confusion_matrix(y_test, dt_prediction).ravel()\n",
    "\n",
    "print('True Positive(TP)  = ', TP)\n",
    "print('False Positive(FP) = ', FP)\n",
    "print('True Negative(TN)  = ', TN)\n",
    "print('False Negative(FN) = ', FN)\n",
    "\n",
    "accuracy =  (TP+TN) /(TP+FP+TN+FN)\n",
    "\n",
    "print('Accuracy of the binary classification = {:0.3f}'.format(accuracy))"
   ]
  },
  {
   "cell_type": "code",
   "execution_count": 61,
   "id": "056ea9d6",
   "metadata": {},
   "outputs": [
    {
     "data": {
      "image/png": "[encoded data removed]",
      "text/plain": [
       "<Figure size 432x288 with 2 Axes>"
      ]
     },
     "metadata": {},
     "output_type": "display_data"
    }
   ],
   "source": [
    "#Visualization of Confusion Matrix\n",
    "dt_prediction = dt.predict(X_test)\n",
    "plot_confusion_matrix(dt,X_test,y_test)\n",
    "plt.tick_params(axis=u'both', which=u'both',length=0)\n",
    "plt.grid(b=None)"
   ]
  },
  {
   "cell_type": "markdown",
   "id": "5a369af9",
   "metadata": {},
   "source": [
    "### Feature Importance using Decison Trees\n",
    "Feature importance, simply put, the higher the value the more important it is"
   ]
  },
  {
   "cell_type": "code",
   "execution_count": 62,
   "id": "2e521fe1",
   "metadata": {},
   "outputs": [
    {
     "data": {
      "image/png": "[encoded data removed]",
      "text/plain": [
       "<Figure size 288x288 with 1 Axes>"
      ]
     },
     "metadata": {},
     "output_type": "display_data"
    }
   ],
   "source": [
    "#Visualization of feature importances\n",
    "def plot_feature_importances(model):\n",
    "    n_features = X_train.shape[1]\n",
    "    plt.figure(figsize=(4,4))\n",
    "    plt.barh(range(n_features), model.feature_importances_, align='center') \n",
    "    plt.yticks(np.arange(n_features), X_train.columns.values) \n",
    "    plt.xlabel('Feature importance')\n",
    "    plt.ylabel('Feature')\n",
    "\n",
    "plot_feature_importances(dt)"
   ]
  },
  {
   "cell_type": "markdown",
   "id": "bdde39c1",
   "metadata": {},
   "source": [
    "#### Interpretation of Feature Importances\n",
    "Recall, Patients with Polydipsia are 175 times more likely to be diabetic. **BUT** Patients Age alone are 5% less likely to be a diabetic indicator.\n",
    "\n",
    "### Decision Tree Classification Report"
   ]
  },
  {
   "cell_type": "code",
   "execution_count": 63,
   "id": "be9da632",
   "metadata": {},
   "outputs": [
    {
     "name": "stdout",
     "output_type": "stream",
     "text": [
      "              precision    recall  f1-score   support\n",
      "\n",
      "           0       0.94      0.92      0.93        48\n",
      "           1       0.95      0.96      0.96        82\n",
      "\n",
      "    accuracy                           0.95       130\n",
      "   macro avg       0.94      0.94      0.94       130\n",
      "weighted avg       0.95      0.95      0.95       130\n",
      "\n"
     ]
    }
   ],
   "source": [
    "#Creating Classification Report for Model Evaluation\n",
    "\n",
    "print(classification_report(y_test, dt_prediction))"
   ]
  },
  {
   "cell_type": "markdown",
   "id": "da900d50",
   "metadata": {},
   "source": [
    "### Interpretation of classification report\n",
    "Precision: Out of all the patients that the model predicted would have diabetes, only 95% actually did.\n",
    "\n",
    "Recall: Out of all the cusomters that actually did have diabetes, the model only predicted this outcome correctly for 96% of those patients\n",
    "\n",
    "f1 score: with an f1 score of 0.96, the model did a really great job of predicting whether or not customers will have diabetes.\n",
    "\n",
    "**The Confusion matrix performance on the Decision Tree classifier shows accuracy score of 95%**\n",
    "\n",
    "\n",
    "### Random Forests Model\n",
    "Random forests or random decision forests is an ensemble learning method for classification, regression and other tasks that operates by constructing a multitude of decision trees at training time.\n",
    "\n",
    "In statistics and machine learning, ensemble methods use multiple learning algorithms to obtain better predictive performance than could be obtained from any of the constituent learning algorithms alone.\n",
    "\n",
    "Next we set the paramerters for grid searchCV. Here we are using n_estimators, which is the number of trees in the forest. max_depth, is the maximum depth of the tree.\n",
    "\n",
    "Then we use GridsearchCV. GridSearchCV is a technique to search through the best parameter values from the given set of the grid of parameters.\n",
    "\n",
    "we fit the data, and then use .best_params_ which tells use the best parameters for our model. Lastly given the parameters to use, we Instantiate them model with set parameters."
   ]
  },
  {
   "cell_type": "code",
   "execution_count": 64,
   "id": "074e7f35",
   "metadata": {},
   "outputs": [],
   "source": [
    "#Instantiating Random Forest Classifier\n",
    "rf_clf = RandomForestClassifier()"
   ]
  },
  {
   "cell_type": "code",
   "execution_count": 65,
   "id": "bbb1817b",
   "metadata": {},
   "outputs": [],
   "source": [
    "#Parameters for GridSearchCV\n",
    "rf_grid = {'n_estimators': [10,20,30,40,50,60,70,80,90,100],\n",
    "    'max_depth': [1,2,3,4,5,6,7,8,9,10],}"
   ]
  },
  {
   "cell_type": "code",
   "execution_count": 66,
   "id": "5170f570",
   "metadata": {},
   "outputs": [],
   "source": [
    "#Instantiating GridSearchCV with classifier to find best parameters\n",
    "rf = GridSearchCV(rf_clf, rf_grid, scoring = 'accuracy', cv = 3 )"
   ]
  },
  {
   "cell_type": "code",
   "execution_count": 67,
   "id": "cf7a66a9",
   "metadata": {},
   "outputs": [
    {
     "data": {
      "text/html": [
       "<style>#sk-container-id-7 {color: black;background-color: white;}#sk-container-id-7 pre{padding: 0;}#sk-container-id-7 div.sk-toggleable {background-color: white;}#sk-container-id-7 label.sk-toggleable__label {cursor: pointer;display: block;width: 100%;margin-bottom: 0;padding: 0.3em;box-sizing: border-box;text-align: center;}#sk-container-id-7 label.sk-toggleable__label-arrow:before {content: \"▸\";float: left;margin-right: 0.25em;color: #696969;}#sk-container-id-7 label.sk-toggleable__label-arrow:hover:before {color: black;}#sk-container-id-7 div.sk-estimator:hover label.sk-toggleable__label-arrow:before {color: black;}#sk-container-id-7 div.sk-toggleable__content {max-height: 0;max-width: 0;overflow: hidden;text-align: left;background-color: #f0f8ff;}#sk-container-id-7 div.sk-toggleable__content pre {margin: 0.2em;color: black;border-radius: 0.25em;background-color: #f0f8ff;}#sk-container-id-7 input.sk-toggleable__control:checked~div.sk-toggleable__content {max-height: 200px;max-width: 100%;overflow: auto;}#sk-container-id-7 input.sk-toggleable__control:checked~label.sk-toggleable__label-arrow:before {content: \"▾\";}#sk-container-id-7 div.sk-estimator input.sk-toggleable__control:checked~label.sk-toggleable__label {background-color: #d4ebff;}#sk-container-id-7 div.sk-label input.sk-toggleable__control:checked~label.sk-toggleable__label {background-color: #d4ebff;}#sk-container-id-7 input.sk-hidden--visually {border: 0;clip: rect(1px 1px 1px 1px);clip: rect(1px, 1px, 1px, 1px);height: 1px;margin: -1px;overflow: hidden;padding: 0;position: absolute;width: 1px;}#sk-container-id-7 div.sk-estimator {font-family: monospace;background-color: #f0f8ff;border: 1px dotted black;border-radius: 0.25em;box-sizing: border-box;margin-bottom: 0.5em;}#sk-container-id-7 div.sk-estimator:hover {background-color: #d4ebff;}#sk-container-id-7 div.sk-parallel-item::after {content: \"\";width: 100%;border-bottom: 1px solid gray;flex-grow: 1;}#sk-container-id-7 div.sk-label:hover label.sk-toggleable__label {background-color: #d4ebff;}#sk-container-id-7 div.sk-serial::before {content: \"\";position: absolute;border-left: 1px solid gray;box-sizing: border-box;top: 0;bottom: 0;left: 50%;z-index: 0;}#sk-container-id-7 div.sk-serial {display: flex;flex-direction: column;align-items: center;background-color: white;padding-right: 0.2em;padding-left: 0.2em;position: relative;}#sk-container-id-7 div.sk-item {position: relative;z-index: 1;}#sk-container-id-7 div.sk-parallel {display: flex;align-items: stretch;justify-content: center;background-color: white;position: relative;}#sk-container-id-7 div.sk-item::before, #sk-container-id-7 div.sk-parallel-item::before {content: \"\";position: absolute;border-left: 1px solid gray;box-sizing: border-box;top: 0;bottom: 0;left: 50%;z-index: -1;}#sk-container-id-7 div.sk-parallel-item {display: flex;flex-direction: column;z-index: 1;position: relative;background-color: white;}#sk-container-id-7 div.sk-parallel-item:first-child::after {align-self: flex-end;width: 50%;}#sk-container-id-7 div.sk-parallel-item:last-child::after {align-self: flex-start;width: 50%;}#sk-container-id-7 div.sk-parallel-item:only-child::after {width: 0;}#sk-container-id-7 div.sk-dashed-wrapped {border: 1px dashed gray;margin: 0 0.4em 0.5em 0.4em;box-sizing: border-box;padding-bottom: 0.4em;background-color: white;}#sk-container-id-7 div.sk-label label {font-family: monospace;font-weight: bold;display: inline-block;line-height: 1.2em;}#sk-container-id-7 div.sk-label-container {text-align: center;}#sk-container-id-7 div.sk-container {/* jupyter's `normalize.less` sets `[hidden] { display: none; }` but bootstrap.min.css set `[hidden] { display: none !important; }` so we also need the `!important` here to be able to override the default hidden behavior on the sphinx rendered scikit-learn.org. See: https://github.com/scikit-learn/scikit-learn/issues/21755 */display: inline-block !important;position: relative;}#sk-container-id-7 div.sk-text-repr-fallback {display: none;}</style><div id=\"sk-container-id-7\" class=\"sk-top-container\"><div class=\"sk-text-repr-fallback\"><pre>GridSearchCV(cv=3, estimator=RandomForestClassifier(),\n",
       "             param_grid={&#x27;max_depth&#x27;: [1, 2, 3, 4, 5, 6, 7, 8, 9, 10],\n",
       "                         &#x27;n_estimators&#x27;: [10, 20, 30, 40, 50, 60, 70, 80, 90,\n",
       "                                          100]},\n",
       "             scoring=&#x27;accuracy&#x27;)</pre><b>In a Jupyter environment, please rerun this cell to show the HTML representation or trust the notebook. <br />On GitHub, the HTML representation is unable to render, please try loading this page with nbviewer.org.</b></div><div class=\"sk-container\" hidden><div class=\"sk-item sk-dashed-wrapped\"><div class=\"sk-label-container\"><div class=\"sk-label sk-toggleable\"><input class=\"sk-toggleable__control sk-hidden--visually\" id=\"sk-estimator-id-13\" type=\"checkbox\" ><label for=\"sk-estimator-id-13\" class=\"sk-toggleable__label sk-toggleable__label-arrow\">GridSearchCV</label><div class=\"sk-toggleable__content\"><pre>GridSearchCV(cv=3, estimator=RandomForestClassifier(),\n",
       "             param_grid={&#x27;max_depth&#x27;: [1, 2, 3, 4, 5, 6, 7, 8, 9, 10],\n",
       "                         &#x27;n_estimators&#x27;: [10, 20, 30, 40, 50, 60, 70, 80, 90,\n",
       "                                          100]},\n",
       "             scoring=&#x27;accuracy&#x27;)</pre></div></div></div><div class=\"sk-parallel\"><div class=\"sk-parallel-item\"><div class=\"sk-item\"><div class=\"sk-label-container\"><div class=\"sk-label sk-toggleable\"><input class=\"sk-toggleable__control sk-hidden--visually\" id=\"sk-estimator-id-14\" type=\"checkbox\" ><label for=\"sk-estimator-id-14\" class=\"sk-toggleable__label sk-toggleable__label-arrow\">estimator: RandomForestClassifier</label><div class=\"sk-toggleable__content\"><pre>RandomForestClassifier()</pre></div></div></div><div class=\"sk-serial\"><div class=\"sk-item\"><div class=\"sk-estimator sk-toggleable\"><input class=\"sk-toggleable__control sk-hidden--visually\" id=\"sk-estimator-id-15\" type=\"checkbox\" ><label for=\"sk-estimator-id-15\" class=\"sk-toggleable__label sk-toggleable__label-arrow\">RandomForestClassifier</label><div class=\"sk-toggleable__content\"><pre>RandomForestClassifier()</pre></div></div></div></div></div></div></div></div></div></div>"
      ],
      "text/plain": [
       "GridSearchCV(cv=3, estimator=RandomForestClassifier(),\n",
       "             param_grid={'max_depth': [1, 2, 3, 4, 5, 6, 7, 8, 9, 10],\n",
       "                         'n_estimators': [10, 20, 30, 40, 50, 60, 70, 80, 90,\n",
       "                                          100]},\n",
       "             scoring='accuracy')"
      ]
     },
     "execution_count": 67,
     "metadata": {},
     "output_type": "execute_result"
    }
   ],
   "source": [
    "#Fitting Training Dataset\n",
    "rf.fit(X_train, y_train)"
   ]
  },
  {
   "cell_type": "code",
   "execution_count": 68,
   "id": "5fc9edcf",
   "metadata": {},
   "outputs": [
    {
     "data": {
      "text/plain": [
       "{'max_depth': 8, 'n_estimators': 70}"
      ]
     },
     "execution_count": 68,
     "metadata": {},
     "output_type": "execute_result"
    }
   ],
   "source": [
    "#Finding Best Parameters\n",
    "rf.best_params_"
   ]
  },
  {
   "cell_type": "code",
   "execution_count": 69,
   "id": "d1c6711e",
   "metadata": {},
   "outputs": [],
   "source": [
    "#Instantiating Random Forest with best parameters\n",
    "rf = RandomForestClassifier(max_depth = 8, n_estimators = 80, random_state = 123)"
   ]
  },
  {
   "cell_type": "code",
   "execution_count": 70,
   "id": "68e3e38a",
   "metadata": {},
   "outputs": [
    {
     "data": {
      "text/html": [
       "<style>#sk-container-id-8 {color: black;background-color: white;}#sk-container-id-8 pre{padding: 0;}#sk-container-id-8 div.sk-toggleable {background-color: white;}#sk-container-id-8 label.sk-toggleable__label {cursor: pointer;display: block;width: 100%;margin-bottom: 0;padding: 0.3em;box-sizing: border-box;text-align: center;}#sk-container-id-8 label.sk-toggleable__label-arrow:before {content: \"▸\";float: left;margin-right: 0.25em;color: #696969;}#sk-container-id-8 label.sk-toggleable__label-arrow:hover:before {color: black;}#sk-container-id-8 div.sk-estimator:hover label.sk-toggleable__label-arrow:before {color: black;}#sk-container-id-8 div.sk-toggleable__content {max-height: 0;max-width: 0;overflow: hidden;text-align: left;background-color: #f0f8ff;}#sk-container-id-8 div.sk-toggleable__content pre {margin: 0.2em;color: black;border-radius: 0.25em;background-color: #f0f8ff;}#sk-container-id-8 input.sk-toggleable__control:checked~div.sk-toggleable__content {max-height: 200px;max-width: 100%;overflow: auto;}#sk-container-id-8 input.sk-toggleable__control:checked~label.sk-toggleable__label-arrow:before {content: \"▾\";}#sk-container-id-8 div.sk-estimator input.sk-toggleable__control:checked~label.sk-toggleable__label {background-color: #d4ebff;}#sk-container-id-8 div.sk-label input.sk-toggleable__control:checked~label.sk-toggleable__label {background-color: #d4ebff;}#sk-container-id-8 input.sk-hidden--visually {border: 0;clip: rect(1px 1px 1px 1px);clip: rect(1px, 1px, 1px, 1px);height: 1px;margin: -1px;overflow: hidden;padding: 0;position: absolute;width: 1px;}#sk-container-id-8 div.sk-estimator {font-family: monospace;background-color: #f0f8ff;border: 1px dotted black;border-radius: 0.25em;box-sizing: border-box;margin-bottom: 0.5em;}#sk-container-id-8 div.sk-estimator:hover {background-color: #d4ebff;}#sk-container-id-8 div.sk-parallel-item::after {content: \"\";width: 100%;border-bottom: 1px solid gray;flex-grow: 1;}#sk-container-id-8 div.sk-label:hover label.sk-toggleable__label {background-color: #d4ebff;}#sk-container-id-8 div.sk-serial::before {content: \"\";position: absolute;border-left: 1px solid gray;box-sizing: border-box;top: 0;bottom: 0;left: 50%;z-index: 0;}#sk-container-id-8 div.sk-serial {display: flex;flex-direction: column;align-items: center;background-color: white;padding-right: 0.2em;padding-left: 0.2em;position: relative;}#sk-container-id-8 div.sk-item {position: relative;z-index: 1;}#sk-container-id-8 div.sk-parallel {display: flex;align-items: stretch;justify-content: center;background-color: white;position: relative;}#sk-container-id-8 div.sk-item::before, #sk-container-id-8 div.sk-parallel-item::before {content: \"\";position: absolute;border-left: 1px solid gray;box-sizing: border-box;top: 0;bottom: 0;left: 50%;z-index: -1;}#sk-container-id-8 div.sk-parallel-item {display: flex;flex-direction: column;z-index: 1;position: relative;background-color: white;}#sk-container-id-8 div.sk-parallel-item:first-child::after {align-self: flex-end;width: 50%;}#sk-container-id-8 div.sk-parallel-item:last-child::after {align-self: flex-start;width: 50%;}#sk-container-id-8 div.sk-parallel-item:only-child::after {width: 0;}#sk-container-id-8 div.sk-dashed-wrapped {border: 1px dashed gray;margin: 0 0.4em 0.5em 0.4em;box-sizing: border-box;padding-bottom: 0.4em;background-color: white;}#sk-container-id-8 div.sk-label label {font-family: monospace;font-weight: bold;display: inline-block;line-height: 1.2em;}#sk-container-id-8 div.sk-label-container {text-align: center;}#sk-container-id-8 div.sk-container {/* jupyter's `normalize.less` sets `[hidden] { display: none; }` but bootstrap.min.css set `[hidden] { display: none !important; }` so we also need the `!important` here to be able to override the default hidden behavior on the sphinx rendered scikit-learn.org. See: https://github.com/scikit-learn/scikit-learn/issues/21755 */display: inline-block !important;position: relative;}#sk-container-id-8 div.sk-text-repr-fallback {display: none;}</style><div id=\"sk-container-id-8\" class=\"sk-top-container\"><div class=\"sk-text-repr-fallback\"><pre>RandomForestClassifier(max_depth=8, n_estimators=80, random_state=123)</pre><b>In a Jupyter environment, please rerun this cell to show the HTML representation or trust the notebook. <br />On GitHub, the HTML representation is unable to render, please try loading this page with nbviewer.org.</b></div><div class=\"sk-container\" hidden><div class=\"sk-item\"><div class=\"sk-estimator sk-toggleable\"><input class=\"sk-toggleable__control sk-hidden--visually\" id=\"sk-estimator-id-16\" type=\"checkbox\" checked><label for=\"sk-estimator-id-16\" class=\"sk-toggleable__label sk-toggleable__label-arrow\">RandomForestClassifier</label><div class=\"sk-toggleable__content\"><pre>RandomForestClassifier(max_depth=8, n_estimators=80, random_state=123)</pre></div></div></div></div></div>"
      ],
      "text/plain": [
       "RandomForestClassifier(max_depth=8, n_estimators=80, random_state=123)"
      ]
     },
     "execution_count": 70,
     "metadata": {},
     "output_type": "execute_result"
    }
   ],
   "source": [
    "#Fitting Training Dataset\n",
    "rf.fit(X_train, y_train)"
   ]
  },
  {
   "cell_type": "markdown",
   "id": "0510db2b",
   "metadata": {},
   "source": [
    "### Random Forest Confusion Matrix and Classification Report"
   ]
  },
  {
   "cell_type": "code",
   "execution_count": 71,
   "id": "d30e1f5e",
   "metadata": {},
   "outputs": [
    {
     "data": {
      "image/png": "[encoded data removed]",
      "text/plain": [
       "<Figure size 432x288 with 2 Axes>"
      ]
     },
     "metadata": {},
     "output_type": "display_data"
    }
   ],
   "source": [
    "rf_prediction = rf.predict(X_test)\n",
    "\n",
    "plot_confusion_matrix(dt,X_test,y_test)\n",
    "plt.tick_params(axis=u'both', which=u'both',length=0)\n",
    "plt.grid(b=None)"
   ]
  },
  {
   "cell_type": "code",
   "execution_count": 72,
   "id": "cfc8f1c1",
   "metadata": {},
   "outputs": [
    {
     "name": "stdout",
     "output_type": "stream",
     "text": [
      "              precision    recall  f1-score   support\n",
      "\n",
      "           0       0.96      0.96      0.96        48\n",
      "           1       0.98      0.98      0.98        82\n",
      "\n",
      "    accuracy                           0.97       130\n",
      "   macro avg       0.97      0.97      0.97       130\n",
      "weighted avg       0.97      0.97      0.97       130\n",
      "\n"
     ]
    }
   ],
   "source": [
    "print(classification_report(y_test, rf_prediction))"
   ]
  },
  {
   "cell_type": "markdown",
   "id": "0f5912d1",
   "metadata": {},
   "source": [
    "### Interpretation of classification report\n",
    "Precision: Out of all the patients that the model predicted would have diabetes, only 98% actually did.\n",
    "\n",
    "Recall: Out of all the cusomters that actually did have diabetes, the model only predicted this outcome correctly for 98% of those patients\n",
    "\n",
    "f1 score: with an f1 score of 0.98, the model did a really great job of predicting whether or not customers will have diabetes.\n",
    "\n",
    "**The Confusion matrix performance on the Random Forest classifier shows accuracy score of 97%**\n",
    "\n",
    "### Feature Importance using Random Forests"
   ]
  },
  {
   "cell_type": "code",
   "execution_count": 73,
   "id": "3d1590d3",
   "metadata": {},
   "outputs": [
    {
     "data": {
      "image/png": "[encoded data removed]",
      "text/plain": [
       "<Figure size 288x288 with 1 Axes>"
      ]
     },
     "metadata": {},
     "output_type": "display_data"
    }
   ],
   "source": [
    "#Visualization of Feature importance for Random Forests\n",
    "def plot_feature_importances(model):\n",
    "    n_features = X_train.shape[1]\n",
    "    plt.figure(figsize=(4,4))\n",
    "    plt.barh(range(n_features), model.feature_importances_, align='center') \n",
    "    plt.yticks(np.arange(n_features), X_train.columns.values) \n",
    "    plt.xlabel('Feature importance')\n",
    "    plt.ylabel('Feature')\n",
    "\n",
    "plot_feature_importances(rf)"
   ]
  },
  {
   "cell_type": "markdown",
   "id": "0b366631",
   "metadata": {},
   "source": [
    "**Recall**\n",
    "\n",
    "Patients with Polyuria are 62 times likely to be diabetic.\n",
    "\n",
    "Patients with Polydipsia are 175 times more likely to be diabetic"
   ]
  },
  {
   "cell_type": "markdown",
   "id": "a644784c",
   "metadata": {},
   "source": [
    "### Final Results - Model comparisons\n",
    "\n",
    "**Logistic Regression**                       \n",
    "\n",
    "Accuracy: 92%                               \n",
    "\n",
    "F1 Score: 0.93  \n",
    "\n",
    "**KNN**\n",
    "\n",
    "Accuracy: 92%\n",
    "\n",
    "F1 Score: 0.94\n",
    "\n",
    "**Decision Trees**\n",
    "\n",
    "Accuracy: 95%\n",
    "\n",
    "F1 Score: 0.96\n",
    "\n",
    "**Random Forest**\n",
    "\n",
    "Accuracy: 97%\n",
    "\n",
    "F1 Score: 0.98\n",
    "\n",
    "\n",
    "\n",
    "### Summary of findings\n",
    "Looking at Odds ratio, we see that International Plan, has an odds ratio greater than one. They are 7 times more likely to leave.\n",
    "\n",
    "Also customers who have made customer service calls are 55% more likely to leave.\n",
    "\n",
    "Customers who make international calls are 8% less likely to leave, and customers who have a voicemail plan are 84% less likely to leave\n",
    "\n",
    "For Logistic Regression, the model had an accuracy score of 0.70\n",
    "\n",
    "For KNN, the model had an accuracy score of 0.87\n",
    "\n",
    "For Decision Trees, the model had an accuracy score of 0.87\n",
    "\n",
    "For Random Forests, the model had an accuracy score of 0.87\n",
    "\n",
    "Because KNN, Decision Trees, and RandomForests, have the same accuracy. The next best deciding factor is the f1 score.\n",
    "\n",
    "For KNN, the model had an f1 score of 0.42\n",
    "\n",
    "For Decison Trees, the model had an f1 score of 0.42\n",
    "\n",
    "For Random Forests, the model had an f1 score of 0.55\n",
    "\n",
    "*RANDOM FORESTS IS THE BEST MODEL*\n",
    "\n",
    "For Logistic Regression, The area under the ROC Curve, is 78.5\n",
    "\n",
    "Plotting feature importances, using Decision Trees. customer services calls and then total international calls were top two important features\n",
    "\n"
   ]
  }
 ],
 "metadata": {
  "kernelspec": {
   "display_name": "Python 3 (ipykernel)",
   "language": "python",
   "name": "python3"
  },
  "language_info": {
   "codemirror_mode": {
    "name": "ipython",
    "version": 3
   },
   "file_extension": ".py",
   "mimetype": "text/x-python",
   "name": "python",
   "nbconvert_exporter": "python",
   "pygments_lexer": "ipython3",
   "version": "3.8.8"
  }
 },
 "nbformat": 4,
 "nbformat_minor": 5
}
